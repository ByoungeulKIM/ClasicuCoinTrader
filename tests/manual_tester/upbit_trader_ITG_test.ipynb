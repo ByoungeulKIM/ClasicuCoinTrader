{
 "cells": [
  {
   "cell_type": "code",
   "execution_count": 1,
   "id": "chronic-discovery",
   "metadata": {},
   "outputs": [],
   "source": [
    "import os\n",
    "os.chdir('../../')"
   ]
  },
  {
   "cell_type": "markdown",
   "id": "dried-leeds",
   "metadata": {},
   "source": [
    "### 현재 디렉토리가 smtm 프로젝트 root로 설정되었는지 확인"
   ]
  },
  {
   "cell_type": "code",
   "execution_count": 2,
   "id": "recent-testing",
   "metadata": {},
   "outputs": [
    {
     "name": "stdout",
     "output_type": "stream",
     "text": [
      "현재 디렉토리  C:\\01_Code\\smtm\n"
     ]
    }
   ],
   "source": [
    "print(\"현재 디렉토리 \" , os.getcwd())"
   ]
  },
  {
   "cell_type": "code",
   "execution_count": 3,
   "id": "faced-prefix",
   "metadata": {},
   "outputs": [],
   "source": [
    "import os\n",
    "import time\n",
    "from datetime import datetime\n",
    "from smtm import UpbitTrader\n",
    "ISO_DATEFORMAT = \"%Y-%m-%dT%H:%M:%S\""
   ]
  },
  {
   "cell_type": "markdown",
   "id": "controlling-finance",
   "metadata": {},
   "source": [
    "### 시세 조회 테스트"
   ]
  },
  {
   "cell_type": "code",
   "execution_count": 4,
   "id": "lonely-tolerance",
   "metadata": {},
   "outputs": [
    {
     "name": "stderr",
     "output_type": "stream",
     "text": [
      "2021-04-15 00:19:41,721 DEBUG   UpbitTrader-Worker - Worker[UpbitTrader-Worker:35012] WAIT ==========\n"
     ]
    },
    {
     "name": "stdout",
     "output_type": "stream",
     "text": [
      "[{'market': 'KRW-BTC', 'trade_date_utc': '2021-04-14', 'trade_time_utc': '15:19:40', 'timestamp': 1618413580000, 'trade_price': 80992000.0, 'trade_volume': 0.00024496, 'prev_closing_price': 80736000.0, 'change_price': 256000.0, 'ask_bid': 'ASK', 'sequential_id': 1618413580000005}]\n",
      "Price : 80992000.0\n"
     ]
    }
   ],
   "source": [
    "def query_trade_tick():\n",
    "    upbitTrader = UpbitTrader()\n",
    "    result = upbitTrader.get_trade_tick()\n",
    "    print(result)\n",
    "    print(f\"Price : {result[0]['trade_price']}\")\n",
    "    \n",
    "query_trade_tick()"
   ]
  },
  {
   "cell_type": "markdown",
   "id": "ruled-france",
   "metadata": {},
   "source": [
    "### 고정 가격 매수 주문\n",
    "시세보다 높은 가격으로 매수 주문 또는 시세보다 낮은 가격으로 매도 주문 할 경우 가격 최적화 되는지 확인"
   ]
  },
  {
   "cell_type": "code",
   "execution_count": 6,
   "id": "superb-stroke",
   "metadata": {},
   "outputs": [
    {
     "name": "stderr",
     "output_type": "stream",
     "text": [
      "2021-04-14 23:47:31,033 DEBUG   UpbitTrader-Worker - Worker[UpbitTrader-Worker:18812] WAIT ==========\n",
      "2021-04-14 23:47:31,038 DEBUG   UpbitTrader-Worker - Worker[UpbitTrader-Worker:18812] GO ----------\n",
      "2021-04-14 23:47:31,038  INFO          UpbitTrader - ORDER ##### BUY\n",
      "2021-04-14 23:47:31,039  INFO          UpbitTrader - KRW-BTC, price: 81332000.0, volume: 0.0001\n",
      "2021-04-14 23:47:31,083  INFO          UpbitTrader - price optimized! #####\n"
     ]
    },
    {
     "name": "stdout",
     "output_type": "stream",
     "text": [
      "waiting...\n"
     ]
    },
    {
     "name": "stderr",
     "output_type": "stream",
     "text": [
      "2021-04-14 23:47:31,307 DEBUG          UpbitTrader - request inserted {'uuid': 'f0912cdc-1b02-405a-8ba0-0aa2314469a7', 'callback': <function test_buy_btc_00001.<locals>.callback at 0x00000277FD011EA0>, 'result': {'request': {'id': 'test1618411651.036', 'type': 'buy', 'price': 81332000.0, 'amount': 0.0001, 'date_time': '2021-04-14T23:47:31'}, 'type': 'buy', 'price': 81332000.0, 'amount': 0.0001, 'msg': 'success'}}\n",
      "2021-04-14 23:47:31,309 DEBUG   UpbitTrader-Worker - Worker[UpbitTrader-Worker:18812] WAIT ==========\n"
     ]
    },
    {
     "name": "stdout",
     "output_type": "stream",
     "text": [
      "waiting...\n"
     ]
    },
    {
     "name": "stderr",
     "output_type": "stream",
     "text": [
      "2021-04-14 23:47:36,316 DEBUG   UpbitTrader-Worker - Worker[UpbitTrader-Worker:18812] GO ----------\n",
      "2021-04-14 23:47:36,397 DEBUG          UpbitTrader - waiting order count 1\n",
      "2021-04-14 23:47:36,398 DEBUG          UpbitTrader - can't find order! {'uuid': 'f0912cdc-1b02-405a-8ba0-0aa2314469a7', 'callback': <function test_buy_btc_00001.<locals>.callback at 0x00000277FD011EA0>, 'result': {'request': {'id': 'test1618411651.036', 'type': 'buy', 'price': 81332000.0, 'amount': 0.0001, 'date_time': '2021-04-14T23:47:31'}, 'type': 'buy', 'price': 81332000.0, 'amount': 0.0001, 'msg': 'success'}}\n",
      "2021-04-14 23:47:36,399 DEBUG          UpbitTrader - After update, waiting order count 1\n",
      "2021-04-14 23:47:36,401 DEBUG   UpbitTrader-Worker - Worker[UpbitTrader-Worker:18812] WAIT ==========\n"
     ]
    },
    {
     "name": "stdout",
     "output_type": "stream",
     "text": [
      "waiting...\n",
      "waiting...\n"
     ]
    },
    {
     "name": "stderr",
     "output_type": "stream",
     "text": [
      "2021-04-14 23:47:41,400 DEBUG   UpbitTrader-Worker - Worker[UpbitTrader-Worker:18812] GO ----------\n",
      "2021-04-14 23:47:41,482 DEBUG          UpbitTrader - waiting order count 1\n",
      "2021-04-14 23:47:41,484 DEBUG          UpbitTrader - can't find order! {'uuid': 'f0912cdc-1b02-405a-8ba0-0aa2314469a7', 'callback': <function test_buy_btc_00001.<locals>.callback at 0x00000277FD011EA0>, 'result': {'request': {'id': 'test1618411651.036', 'type': 'buy', 'price': 81332000.0, 'amount': 0.0001, 'date_time': '2021-04-14T23:47:31'}, 'type': 'buy', 'price': 81332000.0, 'amount': 0.0001, 'msg': 'success'}}\n",
      "2021-04-14 23:47:41,485 DEBUG          UpbitTrader - After update, waiting order count 1\n",
      "2021-04-14 23:47:41,487 DEBUG   UpbitTrader-Worker - Worker[UpbitTrader-Worker:18812] WAIT ==========\n",
      "2021-04-14 23:47:46,496 DEBUG   UpbitTrader-Worker - Worker[UpbitTrader-Worker:18812] GO ----------\n",
      "2021-04-14 23:47:46,579 DEBUG          UpbitTrader - waiting order count 1\n",
      "2021-04-14 23:47:46,581 DEBUG          UpbitTrader - can't find order! {'uuid': 'f0912cdc-1b02-405a-8ba0-0aa2314469a7', 'callback': <function test_buy_btc_00001.<locals>.callback at 0x00000277FD011EA0>, 'result': {'request': {'id': 'test1618411651.036', 'type': 'buy', 'price': 81332000.0, 'amount': 0.0001, 'date_time': '2021-04-14T23:47:31'}, 'type': 'buy', 'price': 81332000.0, 'amount': 0.0001, 'msg': 'success'}}\n",
      "2021-04-14 23:47:46,582 DEBUG          UpbitTrader - After update, waiting order count 1\n",
      "2021-04-14 23:47:46,584 DEBUG   UpbitTrader-Worker - Worker[UpbitTrader-Worker:18812] WAIT ==========\n",
      "2021-04-14 23:47:51,591 DEBUG   UpbitTrader-Worker - Worker[UpbitTrader-Worker:18812] GO ----------\n",
      "2021-04-14 23:47:51,676 DEBUG          UpbitTrader - waiting order count 1\n",
      "2021-04-14 23:47:51,678 DEBUG          UpbitTrader - can't find order! {'uuid': 'f0912cdc-1b02-405a-8ba0-0aa2314469a7', 'callback': <function test_buy_btc_00001.<locals>.callback at 0x00000277FD011EA0>, 'result': {'request': {'id': 'test1618411651.036', 'type': 'buy', 'price': 81332000.0, 'amount': 0.0001, 'date_time': '2021-04-14T23:47:31'}, 'type': 'buy', 'price': 81332000.0, 'amount': 0.0001, 'msg': 'success'}}\n",
      "2021-04-14 23:47:51,680 DEBUG          UpbitTrader - After update, waiting order count 1\n",
      "2021-04-14 23:47:51,682 DEBUG   UpbitTrader-Worker - Worker[UpbitTrader-Worker:18812] WAIT ==========\n",
      "2021-04-14 23:47:56,687 DEBUG   UpbitTrader-Worker - Worker[UpbitTrader-Worker:18812] GO ----------\n",
      "2021-04-14 23:47:56,771 DEBUG          UpbitTrader - waiting order count 1\n",
      "2021-04-14 23:47:56,772 DEBUG          UpbitTrader - can't find order! {'uuid': 'f0912cdc-1b02-405a-8ba0-0aa2314469a7', 'callback': <function test_buy_btc_00001.<locals>.callback at 0x00000277FD011EA0>, 'result': {'request': {'id': 'test1618411651.036', 'type': 'buy', 'price': 81332000.0, 'amount': 0.0001, 'date_time': '2021-04-14T23:47:31'}, 'type': 'buy', 'price': 81332000.0, 'amount': 0.0001, 'msg': 'success'}}\n",
      "2021-04-14 23:47:56,775 DEBUG          UpbitTrader - After update, waiting order count 1\n",
      "2021-04-14 23:47:56,777 DEBUG   UpbitTrader-Worker - Worker[UpbitTrader-Worker:18812] WAIT ==========\n",
      "2021-04-14 23:48:01,787 DEBUG   UpbitTrader-Worker - Worker[UpbitTrader-Worker:18812] GO ----------\n",
      "2021-04-14 23:48:01,870 DEBUG          UpbitTrader - waiting order count 1\n",
      "2021-04-14 23:48:01,872 DEBUG          UpbitTrader - can't find order! {'uuid': 'f0912cdc-1b02-405a-8ba0-0aa2314469a7', 'callback': <function test_buy_btc_00001.<locals>.callback at 0x00000277FD011EA0>, 'result': {'request': {'id': 'test1618411651.036', 'type': 'buy', 'price': 81332000.0, 'amount': 0.0001, 'date_time': '2021-04-14T23:47:31'}, 'type': 'buy', 'price': 81332000.0, 'amount': 0.0001, 'msg': 'success'}}\n",
      "2021-04-14 23:48:01,873 DEBUG          UpbitTrader - After update, waiting order count 1\n",
      "2021-04-14 23:48:01,875 DEBUG   UpbitTrader-Worker - Worker[UpbitTrader-Worker:18812] WAIT ==========\n",
      "2021-04-14 23:48:06,880 DEBUG   UpbitTrader-Worker - Worker[UpbitTrader-Worker:18812] GO ----------\n",
      "2021-04-14 23:48:06,960 DEBUG          UpbitTrader - waiting order count 1\n",
      "2021-04-14 23:48:06,961 DEBUG          UpbitTrader - can't find order! {'uuid': 'f0912cdc-1b02-405a-8ba0-0aa2314469a7', 'callback': <function test_buy_btc_00001.<locals>.callback at 0x00000277FD011EA0>, 'result': {'request': {'id': 'test1618411651.036', 'type': 'buy', 'price': 81332000.0, 'amount': 0.0001, 'date_time': '2021-04-14T23:47:31'}, 'type': 'buy', 'price': 81332000.0, 'amount': 0.0001, 'msg': 'success'}}\n",
      "2021-04-14 23:48:06,962 DEBUG          UpbitTrader - After update, waiting order count 1\n",
      "2021-04-14 23:48:06,963 DEBUG   UpbitTrader-Worker - Worker[UpbitTrader-Worker:18812] WAIT ==========\n"
     ]
    }
   ],
   "source": [
    "def test_buy_btc_00001():\n",
    "    upbitTrader = UpbitTrader()\n",
    "    now = datetime.now().strftime(ISO_DATEFORMAT)\n",
    "    request = {\n",
    "        \"id\": \"test\" + str(round(time.time(), 3)),\n",
    "        \"type\": \"buy\",\n",
    "        \"price\": 81332000.0,\n",
    "        \"amount\": 0.0001,\n",
    "        \"date_time\": now,\n",
    "    }\n",
    "\n",
    "    is_waiting = True\n",
    "    start_time = time.time()\n",
    "    def callback(info):\n",
    "        print(f\"callback ## {info}\")\n",
    "        nonlocal is_waiting\n",
    "        is_waiting = False\n",
    "\n",
    "    upbitTrader.send_request(request, callback)\n",
    "\n",
    "    while is_waiting:\n",
    "        if time.time() - start_time > 10:\n",
    "            break\n",
    "        print(\"waiting...\")\n",
    "        time.sleep(1)\n",
    "\n",
    "test_buy_btc_00001()"
   ]
  },
  {
   "cell_type": "markdown",
   "id": "established-nicaragua",
   "metadata": {},
   "source": [
    "### 고정 가격 매도 주문\n",
    "시세보다 높은 가격으로 매수 주문 또는 시세보다 낮은 가격으로 매도 주문 할 경우 가격 최적화 되는지 확인"
   ]
  },
  {
   "cell_type": "code",
   "execution_count": 5,
   "id": "political-distribution",
   "metadata": {},
   "outputs": [
    {
     "name": "stderr",
     "output_type": "stream",
     "text": [
      "2021-04-14 01:04:03,794 DEBUG   UpbitTrader-Worker - Worker[UpbitTrader-Worker:13004] WAIT ==========\n",
      "2021-04-14 01:04:03,797 DEBUG   UpbitTrader-Worker - Worker[UpbitTrader-Worker:13004] GO ----------\n",
      "2021-04-14 01:04:03,798  INFO          UpbitTrader - ORDER ##### SELL\n",
      "2021-04-14 01:04:03,800  INFO          UpbitTrader - KRW-BTC, price: 81535000.0, volume: 0.0001\n",
      "2021-04-14 01:04:03,967 DEBUG          UpbitTrader - request inserted {'uuid': 'db065f56-9b9e-4745-83a6-c4774defc1dc', 'callback': <function test_sell_btc_00001.<locals>.callback at 0x000002957F3F1840>, 'result': {'request': {'id': 'test1618329843.796', 'type': 'sell', 'price': 81535000.0, 'amount': 0.0001, 'date_time': '2021-04-14T01:04:03'}, 'type': 'sell', 'price': 81535000.0, 'amount': 0.0001, 'msg': 'success'}}\n",
      "2021-04-14 01:04:03,967 DEBUG   UpbitTrader-Worker - Worker[UpbitTrader-Worker:13004] WAIT ==========\n"
     ]
    },
    {
     "name": "stdout",
     "output_type": "stream",
     "text": [
      "waiting...\n",
      "waiting...\n"
     ]
    },
    {
     "name": "stderr",
     "output_type": "stream",
     "text": [
      "2021-04-14 01:04:08,981 DEBUG   UpbitTrader-Worker - Worker[UpbitTrader-Worker:13004] GO ----------\n",
      "2021-04-14 01:04:09,075 DEBUG          UpbitTrader - waiting order count 1\n",
      "2021-04-14 01:04:09,075 DEBUG          UpbitTrader - can't find order! {'uuid': 'db065f56-9b9e-4745-83a6-c4774defc1dc', 'callback': <function test_sell_btc_00001.<locals>.callback at 0x000002957F3F1840>, 'result': {'request': {'id': 'test1618329843.796', 'type': 'sell', 'price': 81535000.0, 'amount': 0.0001, 'date_time': '2021-04-14T01:04:03'}, 'type': 'sell', 'price': 81535000.0, 'amount': 0.0001, 'msg': 'success'}}\n",
      "2021-04-14 01:04:09,075 DEBUG          UpbitTrader - After update, waiting order count 1\n",
      "2021-04-14 01:04:09,075 DEBUG   UpbitTrader-Worker - Worker[UpbitTrader-Worker:13004] WAIT ==========\n"
     ]
    },
    {
     "name": "stdout",
     "output_type": "stream",
     "text": [
      "waiting...\n",
      "waiting...\n"
     ]
    },
    {
     "name": "stderr",
     "output_type": "stream",
     "text": [
      "2021-04-14 01:04:14,089 DEBUG   UpbitTrader-Worker - Worker[UpbitTrader-Worker:13004] GO ----------\n",
      "2021-04-14 01:04:14,165 DEBUG          UpbitTrader - waiting order count 1\n",
      "2021-04-14 01:04:14,165 DEBUG          UpbitTrader - can't find order! {'uuid': 'db065f56-9b9e-4745-83a6-c4774defc1dc', 'callback': <function test_sell_btc_00001.<locals>.callback at 0x000002957F3F1840>, 'result': {'request': {'id': 'test1618329843.796', 'type': 'sell', 'price': 81535000.0, 'amount': 0.0001, 'date_time': '2021-04-14T01:04:03'}, 'type': 'sell', 'price': 81535000.0, 'amount': 0.0001, 'msg': 'success'}}\n",
      "2021-04-14 01:04:14,165 DEBUG          UpbitTrader - After update, waiting order count 1\n",
      "2021-04-14 01:04:14,175 DEBUG   UpbitTrader-Worker - Worker[UpbitTrader-Worker:13004] WAIT ==========\n",
      "2021-04-14 01:04:19,183 DEBUG   UpbitTrader-Worker - Worker[UpbitTrader-Worker:13004] GO ----------\n",
      "2021-04-14 01:04:19,268 DEBUG          UpbitTrader - waiting order count 1\n",
      "2021-04-14 01:04:19,268 DEBUG          UpbitTrader - can't find order! {'uuid': 'db065f56-9b9e-4745-83a6-c4774defc1dc', 'callback': <function test_sell_btc_00001.<locals>.callback at 0x000002957F3F1840>, 'result': {'request': {'id': 'test1618329843.796', 'type': 'sell', 'price': 81535000.0, 'amount': 0.0001, 'date_time': '2021-04-14T01:04:03'}, 'type': 'sell', 'price': 81535000.0, 'amount': 0.0001, 'msg': 'success'}}\n",
      "2021-04-14 01:04:19,268 DEBUG          UpbitTrader - After update, waiting order count 1\n",
      "2021-04-14 01:04:19,284 DEBUG   UpbitTrader-Worker - Worker[UpbitTrader-Worker:13004] WAIT ==========\n",
      "2021-04-14 01:04:24,295 DEBUG   UpbitTrader-Worker - Worker[UpbitTrader-Worker:13004] GO ----------\n",
      "2021-04-14 01:04:24,373 DEBUG          UpbitTrader - waiting order count 1\n",
      "2021-04-14 01:04:24,373 DEBUG          UpbitTrader - can't find order! {'uuid': 'db065f56-9b9e-4745-83a6-c4774defc1dc', 'callback': <function test_sell_btc_00001.<locals>.callback at 0x000002957F3F1840>, 'result': {'request': {'id': 'test1618329843.796', 'type': 'sell', 'price': 81535000.0, 'amount': 0.0001, 'date_time': '2021-04-14T01:04:03'}, 'type': 'sell', 'price': 81535000.0, 'amount': 0.0001, 'msg': 'success'}}\n",
      "2021-04-14 01:04:24,373 DEBUG          UpbitTrader - After update, waiting order count 1\n",
      "2021-04-14 01:04:24,380 DEBUG   UpbitTrader-Worker - Worker[UpbitTrader-Worker:13004] WAIT ==========\n",
      "2021-04-14 01:04:29,388 DEBUG   UpbitTrader-Worker - Worker[UpbitTrader-Worker:13004] GO ----------\n",
      "2021-04-14 01:04:29,472 DEBUG          UpbitTrader - waiting order count 1\n",
      "2021-04-14 01:04:29,474 DEBUG          UpbitTrader - can't find order! {'uuid': 'db065f56-9b9e-4745-83a6-c4774defc1dc', 'callback': <function test_sell_btc_00001.<locals>.callback at 0x000002957F3F1840>, 'result': {'request': {'id': 'test1618329843.796', 'type': 'sell', 'price': 81535000.0, 'amount': 0.0001, 'date_time': '2021-04-14T01:04:03'}, 'type': 'sell', 'price': 81535000.0, 'amount': 0.0001, 'msg': 'success'}}\n",
      "2021-04-14 01:04:29,475 DEBUG          UpbitTrader - After update, waiting order count 1\n",
      "2021-04-14 01:04:29,476 DEBUG   UpbitTrader-Worker - Worker[UpbitTrader-Worker:13004] WAIT ==========\n",
      "2021-04-14 01:04:34,484 DEBUG   UpbitTrader-Worker - Worker[UpbitTrader-Worker:13004] GO ----------\n",
      "2021-04-14 01:04:34,570 DEBUG          UpbitTrader - waiting order count 1\n",
      "2021-04-14 01:04:34,571 DEBUG          UpbitTrader - can't find order! {'uuid': 'db065f56-9b9e-4745-83a6-c4774defc1dc', 'callback': <function test_sell_btc_00001.<locals>.callback at 0x000002957F3F1840>, 'result': {'request': {'id': 'test1618329843.796', 'type': 'sell', 'price': 81535000.0, 'amount': 0.0001, 'date_time': '2021-04-14T01:04:03'}, 'type': 'sell', 'price': 81535000.0, 'amount': 0.0001, 'msg': 'success'}}\n",
      "2021-04-14 01:04:34,572 DEBUG          UpbitTrader - After update, waiting order count 1\n",
      "2021-04-14 01:04:34,573 DEBUG   UpbitTrader-Worker - Worker[UpbitTrader-Worker:13004] WAIT ==========\n",
      "2021-04-14 01:04:39,578 DEBUG   UpbitTrader-Worker - Worker[UpbitTrader-Worker:13004] GO ----------\n",
      "2021-04-14 01:04:39,656 DEBUG          UpbitTrader - waiting order count 1\n",
      "2021-04-14 01:04:39,658 DEBUG          UpbitTrader - can't find order! {'uuid': 'db065f56-9b9e-4745-83a6-c4774defc1dc', 'callback': <function test_sell_btc_00001.<locals>.callback at 0x000002957F3F1840>, 'result': {'request': {'id': 'test1618329843.796', 'type': 'sell', 'price': 81535000.0, 'amount': 0.0001, 'date_time': '2021-04-14T01:04:03'}, 'type': 'sell', 'price': 81535000.0, 'amount': 0.0001, 'msg': 'success'}}\n",
      "2021-04-14 01:04:39,659 DEBUG          UpbitTrader - After update, waiting order count 1\n",
      "2021-04-14 01:04:39,661 DEBUG   UpbitTrader-Worker - Worker[UpbitTrader-Worker:13004] WAIT ==========\n",
      "2021-04-14 01:04:44,671 DEBUG   UpbitTrader-Worker - Worker[UpbitTrader-Worker:13004] GO ----------\n",
      "2021-04-14 01:04:44,745 DEBUG          UpbitTrader - waiting order count 1\n",
      "2021-04-14 01:04:44,745 DEBUG          UpbitTrader - can't find order! {'uuid': 'db065f56-9b9e-4745-83a6-c4774defc1dc', 'callback': <function test_sell_btc_00001.<locals>.callback at 0x000002957F3F1840>, 'result': {'request': {'id': 'test1618329843.796', 'type': 'sell', 'price': 81535000.0, 'amount': 0.0001, 'date_time': '2021-04-14T01:04:03'}, 'type': 'sell', 'price': 81535000.0, 'amount': 0.0001, 'msg': 'success'}}\n",
      "2021-04-14 01:04:44,745 DEBUG          UpbitTrader - After update, waiting order count 1\n",
      "2021-04-14 01:04:44,761 DEBUG   UpbitTrader-Worker - Worker[UpbitTrader-Worker:13004] WAIT ==========\n",
      "2021-04-14 01:04:49,771 DEBUG   UpbitTrader-Worker - Worker[UpbitTrader-Worker:13004] GO ----------\n",
      "2021-04-14 01:04:49,852 DEBUG          UpbitTrader - waiting order count 1\n",
      "2021-04-14 01:04:49,852 DEBUG          UpbitTrader - can't find order! {'uuid': 'db065f56-9b9e-4745-83a6-c4774defc1dc', 'callback': <function test_sell_btc_00001.<locals>.callback at 0x000002957F3F1840>, 'result': {'request': {'id': 'test1618329843.796', 'type': 'sell', 'price': 81535000.0, 'amount': 0.0001, 'date_time': '2021-04-14T01:04:03'}, 'type': 'sell', 'price': 81535000.0, 'amount': 0.0001, 'msg': 'success'}}\n",
      "2021-04-14 01:04:49,852 DEBUG          UpbitTrader - After update, waiting order count 1\n",
      "2021-04-14 01:04:49,852 DEBUG   UpbitTrader-Worker - Worker[UpbitTrader-Worker:13004] WAIT ==========\n",
      "2021-04-14 01:04:54,856 DEBUG   UpbitTrader-Worker - Worker[UpbitTrader-Worker:13004] GO ----------\n",
      "2021-04-14 01:04:54,970 DEBUG          UpbitTrader - waiting order count 1\n",
      "2021-04-14 01:04:54,970 DEBUG          UpbitTrader - can't find order! {'uuid': 'db065f56-9b9e-4745-83a6-c4774defc1dc', 'callback': <function test_sell_btc_00001.<locals>.callback at 0x000002957F3F1840>, 'result': {'request': {'id': 'test1618329843.796', 'type': 'sell', 'price': 81535000.0, 'amount': 0.0001, 'date_time': '2021-04-14T01:04:03'}, 'type': 'sell', 'price': 81535000.0, 'amount': 0.0001, 'msg': 'success'}}\n",
      "2021-04-14 01:04:54,970 DEBUG          UpbitTrader - After update, waiting order count 1\n",
      "2021-04-14 01:04:54,970 DEBUG   UpbitTrader-Worker - Worker[UpbitTrader-Worker:13004] WAIT ==========\n",
      "2021-04-14 01:04:59,983 DEBUG   UpbitTrader-Worker - Worker[UpbitTrader-Worker:13004] GO ----------\n",
      "2021-04-14 01:05:00,061 DEBUG          UpbitTrader - waiting order count 1\n",
      "2021-04-14 01:05:00,061 DEBUG          UpbitTrader - can't find order! {'uuid': 'db065f56-9b9e-4745-83a6-c4774defc1dc', 'callback': <function test_sell_btc_00001.<locals>.callback at 0x000002957F3F1840>, 'result': {'request': {'id': 'test1618329843.796', 'type': 'sell', 'price': 81535000.0, 'amount': 0.0001, 'date_time': '2021-04-14T01:04:03'}, 'type': 'sell', 'price': 81535000.0, 'amount': 0.0001, 'msg': 'success'}}\n",
      "2021-04-14 01:05:00,061 DEBUG          UpbitTrader - After update, waiting order count 1\n",
      "2021-04-14 01:05:00,070 DEBUG   UpbitTrader-Worker - Worker[UpbitTrader-Worker:13004] WAIT ==========\n",
      "2021-04-14 01:05:05,075 DEBUG   UpbitTrader-Worker - Worker[UpbitTrader-Worker:13004] GO ----------\n",
      "2021-04-14 01:05:05,134 DEBUG          UpbitTrader - waiting order count 1\n",
      "2021-04-14 01:05:05,134 DEBUG          UpbitTrader - can't find order! {'uuid': 'db065f56-9b9e-4745-83a6-c4774defc1dc', 'callback': <function test_sell_btc_00001.<locals>.callback at 0x000002957F3F1840>, 'result': {'request': {'id': 'test1618329843.796', 'type': 'sell', 'price': 81535000.0, 'amount': 0.0001, 'date_time': '2021-04-14T01:04:03'}, 'type': 'sell', 'price': 81535000.0, 'amount': 0.0001, 'msg': 'success'}}\n"
     ]
    },
    {
     "name": "stderr",
     "output_type": "stream",
     "text": [
      "2021-04-14 01:05:05,150 DEBUG          UpbitTrader - After update, waiting order count 1\n",
      "2021-04-14 01:05:05,151 DEBUG   UpbitTrader-Worker - Worker[UpbitTrader-Worker:13004] WAIT ==========\n",
      "2021-04-14 01:05:10,156 DEBUG   UpbitTrader-Worker - Worker[UpbitTrader-Worker:13004] GO ----------\n",
      "2021-04-14 01:05:10,253 DEBUG          UpbitTrader - waiting order count 1\n",
      "2021-04-14 01:05:10,253 DEBUG          UpbitTrader - can't find order! {'uuid': 'db065f56-9b9e-4745-83a6-c4774defc1dc', 'callback': <function test_sell_btc_00001.<locals>.callback at 0x000002957F3F1840>, 'result': {'request': {'id': 'test1618329843.796', 'type': 'sell', 'price': 81535000.0, 'amount': 0.0001, 'date_time': '2021-04-14T01:04:03'}, 'type': 'sell', 'price': 81535000.0, 'amount': 0.0001, 'msg': 'success'}}\n",
      "2021-04-14 01:05:10,253 DEBUG          UpbitTrader - After update, waiting order count 1\n",
      "2021-04-14 01:05:10,253 DEBUG   UpbitTrader-Worker - Worker[UpbitTrader-Worker:13004] WAIT ==========\n",
      "2021-04-14 01:05:15,257 DEBUG   UpbitTrader-Worker - Worker[UpbitTrader-Worker:13004] GO ----------\n",
      "2021-04-14 01:05:15,327 DEBUG          UpbitTrader - waiting order count 1\n",
      "2021-04-14 01:05:15,327 DEBUG          UpbitTrader - can't find order! {'uuid': 'db065f56-9b9e-4745-83a6-c4774defc1dc', 'callback': <function test_sell_btc_00001.<locals>.callback at 0x000002957F3F1840>, 'result': {'request': {'id': 'test1618329843.796', 'type': 'sell', 'price': 81535000.0, 'amount': 0.0001, 'date_time': '2021-04-14T01:04:03'}, 'type': 'sell', 'price': 81535000.0, 'amount': 0.0001, 'msg': 'success'}}\n",
      "2021-04-14 01:05:15,327 DEBUG          UpbitTrader - After update, waiting order count 1\n",
      "2021-04-14 01:05:15,327 DEBUG   UpbitTrader-Worker - Worker[UpbitTrader-Worker:13004] WAIT ==========\n",
      "2021-04-14 01:05:20,333 DEBUG   UpbitTrader-Worker - Worker[UpbitTrader-Worker:13004] GO ----------\n",
      "2021-04-14 01:05:20,399 DEBUG          UpbitTrader - waiting order count 1\n",
      "2021-04-14 01:05:20,399 DEBUG          UpbitTrader - can't find order! {'uuid': 'db065f56-9b9e-4745-83a6-c4774defc1dc', 'callback': <function test_sell_btc_00001.<locals>.callback at 0x000002957F3F1840>, 'result': {'request': {'id': 'test1618329843.796', 'type': 'sell', 'price': 81535000.0, 'amount': 0.0001, 'date_time': '2021-04-14T01:04:03'}, 'type': 'sell', 'price': 81535000.0, 'amount': 0.0001, 'msg': 'success'}}\n",
      "2021-04-14 01:05:20,399 DEBUG          UpbitTrader - After update, waiting order count 1\n",
      "2021-04-14 01:05:20,414 DEBUG   UpbitTrader-Worker - Worker[UpbitTrader-Worker:13004] WAIT ==========\n",
      "2021-04-14 01:05:25,400 DEBUG   UpbitTrader-Worker - Worker[UpbitTrader-Worker:13004] GO ----------\n",
      "2021-04-14 01:05:25,478 DEBUG          UpbitTrader - waiting order count 1\n",
      "2021-04-14 01:05:25,479 DEBUG          UpbitTrader - can't find order! {'uuid': 'db065f56-9b9e-4745-83a6-c4774defc1dc', 'callback': <function test_sell_btc_00001.<locals>.callback at 0x000002957F3F1840>, 'result': {'request': {'id': 'test1618329843.796', 'type': 'sell', 'price': 81535000.0, 'amount': 0.0001, 'date_time': '2021-04-14T01:04:03'}, 'type': 'sell', 'price': 81535000.0, 'amount': 0.0001, 'msg': 'success'}}\n",
      "2021-04-14 01:05:25,480 DEBUG          UpbitTrader - After update, waiting order count 1\n",
      "2021-04-14 01:05:25,482 DEBUG   UpbitTrader-Worker - Worker[UpbitTrader-Worker:13004] WAIT ==========\n",
      "2021-04-14 01:05:30,483 DEBUG   UpbitTrader-Worker - Worker[UpbitTrader-Worker:13004] GO ----------\n",
      "2021-04-14 01:05:30,560 DEBUG          UpbitTrader - waiting order count 1\n",
      "2021-04-14 01:05:30,560 DEBUG          UpbitTrader - can't find order! {'uuid': 'db065f56-9b9e-4745-83a6-c4774defc1dc', 'callback': <function test_sell_btc_00001.<locals>.callback at 0x000002957F3F1840>, 'result': {'request': {'id': 'test1618329843.796', 'type': 'sell', 'price': 81535000.0, 'amount': 0.0001, 'date_time': '2021-04-14T01:04:03'}, 'type': 'sell', 'price': 81535000.0, 'amount': 0.0001, 'msg': 'success'}}\n",
      "2021-04-14 01:05:30,560 DEBUG          UpbitTrader - After update, waiting order count 1\n",
      "2021-04-14 01:05:30,560 DEBUG   UpbitTrader-Worker - Worker[UpbitTrader-Worker:13004] WAIT ==========\n",
      "2021-04-14 01:05:35,564 DEBUG   UpbitTrader-Worker - Worker[UpbitTrader-Worker:13004] GO ----------\n",
      "2021-04-14 01:05:35,699 DEBUG          UpbitTrader - waiting order count 1\n",
      "2021-04-14 01:05:35,699 DEBUG          UpbitTrader - can't find order! {'uuid': 'db065f56-9b9e-4745-83a6-c4774defc1dc', 'callback': <function test_sell_btc_00001.<locals>.callback at 0x000002957F3F1840>, 'result': {'request': {'id': 'test1618329843.796', 'type': 'sell', 'price': 81535000.0, 'amount': 0.0001, 'date_time': '2021-04-14T01:04:03'}, 'type': 'sell', 'price': 81535000.0, 'amount': 0.0001, 'msg': 'success'}}\n",
      "2021-04-14 01:05:35,699 DEBUG          UpbitTrader - After update, waiting order count 1\n",
      "2021-04-14 01:05:35,704 DEBUG   UpbitTrader-Worker - Worker[UpbitTrader-Worker:13004] WAIT ==========\n",
      "2021-04-14 01:05:40,704 DEBUG   UpbitTrader-Worker - Worker[UpbitTrader-Worker:13004] GO ----------\n",
      "2021-04-14 01:05:40,769 DEBUG          UpbitTrader - waiting order count 1\n",
      "2021-04-14 01:05:40,769 DEBUG          UpbitTrader - can't find order! {'uuid': 'db065f56-9b9e-4745-83a6-c4774defc1dc', 'callback': <function test_sell_btc_00001.<locals>.callback at 0x000002957F3F1840>, 'result': {'request': {'id': 'test1618329843.796', 'type': 'sell', 'price': 81535000.0, 'amount': 0.0001, 'date_time': '2021-04-14T01:04:03'}, 'type': 'sell', 'price': 81535000.0, 'amount': 0.0001, 'msg': 'success'}}\n",
      "2021-04-14 01:05:40,769 DEBUG          UpbitTrader - After update, waiting order count 1\n",
      "2021-04-14 01:05:40,786 DEBUG   UpbitTrader-Worker - Worker[UpbitTrader-Worker:13004] WAIT ==========\n",
      "2021-04-14 01:05:45,791 DEBUG   UpbitTrader-Worker - Worker[UpbitTrader-Worker:13004] GO ----------\n",
      "2021-04-14 01:05:45,858 DEBUG          UpbitTrader - waiting order count 1\n",
      "2021-04-14 01:05:45,858 DEBUG          UpbitTrader - can't find order! {'uuid': 'db065f56-9b9e-4745-83a6-c4774defc1dc', 'callback': <function test_sell_btc_00001.<locals>.callback at 0x000002957F3F1840>, 'result': {'request': {'id': 'test1618329843.796', 'type': 'sell', 'price': 81535000.0, 'amount': 0.0001, 'date_time': '2021-04-14T01:04:03'}, 'type': 'sell', 'price': 81535000.0, 'amount': 0.0001, 'msg': 'success'}}\n",
      "2021-04-14 01:05:45,858 DEBUG          UpbitTrader - After update, waiting order count 1\n",
      "2021-04-14 01:05:45,858 DEBUG   UpbitTrader-Worker - Worker[UpbitTrader-Worker:13004] WAIT ==========\n",
      "2021-04-14 01:05:50,867 DEBUG   UpbitTrader-Worker - Worker[UpbitTrader-Worker:13004] GO ----------\n",
      "2021-04-14 01:05:51,008 DEBUG          UpbitTrader - waiting order count 1\n",
      "2021-04-14 01:05:51,008 DEBUG          UpbitTrader - Find done order! =====\n",
      "2021-04-14 01:05:51,008 DEBUG          UpbitTrader - {'uuid': 'db065f56-9b9e-4745-83a6-c4774defc1dc', 'callback': <function test_sell_btc_00001.<locals>.callback at 0x000002957F3F1840>, 'result': {'request': {'id': 'test1618329843.796', 'type': 'sell', 'price': 81535000.0, 'amount': 0.0001, 'date_time': '2021-04-14T01:04:03'}, 'type': 'sell', 'price': 81535000.0, 'amount': 0.0001, 'msg': 'success'}}\n",
      "2021-04-14 01:05:51,008 DEBUG          UpbitTrader - {'uuid': 'db065f56-9b9e-4745-83a6-c4774defc1dc', 'side': 'ask', 'ord_type': 'limit', 'price': '81535000.0', 'state': 'cancel', 'market': 'KRW-BTC', 'created_at': '2021-04-14T01:04:03+09:00', 'volume': '0.0001', 'remaining_volume': '0.0001', 'reserved_fee': '0.0', 'remaining_fee': '0.0', 'paid_fee': '0.0', 'locked': '0.0001', 'executed_volume': '0.0', 'trades_count': 0}\n",
      "2021-04-14 01:05:51,016 DEBUG          UpbitTrader - After update, waiting order count 0\n",
      "2021-04-14 01:05:51,017 DEBUG   UpbitTrader-Worker - Worker[UpbitTrader-Worker:13004] WAIT ==========\n"
     ]
    },
    {
     "name": "stdout",
     "output_type": "stream",
     "text": [
      "callback ## {'request': {'id': 'test1618329843.796', 'type': 'sell', 'price': 81535000.0, 'amount': 0.0001, 'date_time': '2021-04-14T01:04:03'}, 'type': 'sell', 'price': '81535000.0', 'amount': 0.0001, 'msg': 'success', 'date_time': '2021-04-14T01:04:03+09:00'}\n"
     ]
    }
   ],
   "source": [
    "def test_sell_btc_00001():\n",
    "    upbitTrader = UpbitTrader()\n",
    "    now = datetime.now().strftime(ISO_DATEFORMAT)\n",
    "    request = {\n",
    "        \"id\": \"test\" + str(round(time.time(), 3)),\n",
    "        \"type\": \"sell\",\n",
    "        \"price\": 81535000.0,\n",
    "        \"amount\": 0.0001,\n",
    "        \"date_time\": now,\n",
    "    }\n",
    "\n",
    "    is_waiting = True\n",
    "    start_time = time.time()\n",
    "    def callback(info):\n",
    "        print(f\"callback ## {info}\")\n",
    "        nonlocal is_waiting\n",
    "        is_waiting = False\n",
    "\n",
    "    upbitTrader.send_request(request, callback)\n",
    "\n",
    "    while is_waiting:\n",
    "        if time.time() - start_time > 10:\n",
    "            break\n",
    "        print(\"waiting...\")\n",
    "        time.sleep(1)\n",
    "\n",
    "test_sell_btc_00001()"
   ]
  },
  {
   "cell_type": "markdown",
   "id": "humanitarian-provider",
   "metadata": {},
   "source": [
    "### 주문 취소\n",
    "매수 주문 후 시간 만료되면 주문 취소"
   ]
  },
  {
   "cell_type": "code",
   "execution_count": 11,
   "id": "banner-match",
   "metadata": {},
   "outputs": [
    {
     "name": "stderr",
     "output_type": "stream",
     "text": [
      "2021-04-15 00:23:10,148 DEBUG   UpbitTrader-Worker - Worker[UpbitTrader-Worker:16476] WAIT ==========\n",
      "2021-04-15 00:23:10,152 DEBUG   UpbitTrader-Worker - Worker[UpbitTrader-Worker:16476] GO ----------\n",
      "2021-04-15 00:23:10,153  INFO          UpbitTrader - ORDER ##### BUY\n",
      "2021-04-15 00:23:10,155  INFO          UpbitTrader - KRW-BTC, price: 80850000.0, volume: 0.0001\n",
      "2021-04-15 00:23:10,322 DEBUG          UpbitTrader - request inserted {'uuid': '5f83873b-d3de-4406-a504-e45c2fd570e0', 'callback': <function cancel.<locals>.callback at 0x0000021DC97E1AE8>, 'result': {'request': {'id': 'test1618413790.152', 'type': 'buy', 'price': 80850000.0, 'amount': 0.0001, 'date_time': '2021-04-15T00:23:10'}, 'type': 'buy', 'price': 80850000.0, 'amount': 0.0001, 'msg': 'success'}}\n"
     ]
    },
    {
     "name": "stdout",
     "output_type": "stream",
     "text": [
      "waiting...\n"
     ]
    },
    {
     "name": "stderr",
     "output_type": "stream",
     "text": [
      "2021-04-15 00:23:10,338 DEBUG   UpbitTrader-Worker - Worker[UpbitTrader-Worker:16476] WAIT ==========\n"
     ]
    },
    {
     "name": "stdout",
     "output_type": "stream",
     "text": [
      "waiting...\n",
      "waiting...\n",
      "waiting...\n",
      "waiting...\n"
     ]
    },
    {
     "name": "stderr",
     "output_type": "stream",
     "text": [
      "2021-04-15 00:23:15,339 DEBUG   UpbitTrader-Worker - Worker[UpbitTrader-Worker:16476] GO ----------\n"
     ]
    },
    {
     "name": "stdout",
     "output_type": "stream",
     "text": [
      "waiting...\n"
     ]
    },
    {
     "name": "stderr",
     "output_type": "stream",
     "text": [
      "2021-04-15 00:23:15,413 DEBUG          UpbitTrader - waiting order count 1\n",
      "2021-04-15 00:23:15,414 DEBUG          UpbitTrader - can't find order! {'uuid': '5f83873b-d3de-4406-a504-e45c2fd570e0', 'callback': <function cancel.<locals>.callback at 0x0000021DC97E1AE8>, 'result': {'request': {'id': 'test1618413790.152', 'type': 'buy', 'price': 80850000.0, 'amount': 0.0001, 'date_time': '2021-04-15T00:23:10'}, 'type': 'buy', 'price': 80850000.0, 'amount': 0.0001, 'msg': 'success'}}\n",
      "2021-04-15 00:23:15,416 DEBUG          UpbitTrader - After update, waiting order count 1\n",
      "2021-04-15 00:23:15,417 DEBUG   UpbitTrader-Worker - Worker[UpbitTrader-Worker:16476] WAIT ==========\n"
     ]
    },
    {
     "name": "stdout",
     "output_type": "stream",
     "text": [
      "waiting...\n",
      "waiting...\n",
      "waiting...\n",
      "waiting...\n"
     ]
    },
    {
     "name": "stderr",
     "output_type": "stream",
     "text": [
      "2021-04-15 00:23:20,205  INFO          UpbitTrader - CANCEL ORDER ##### 5f83873b-d3de-4406-a504-e45c2fd570e0\n",
      "2021-04-15 00:23:20,272 ERROR          UpbitTrader - 404 Client Error: Not Found for url: https://api.upbit.com/v1/order?uuid=5f83873b-d3de-4406-a504-e45c2fd570e0\n",
      "2021-04-15 00:23:20,339 DEBUG          UpbitTrader - canceled order check [{'uuid': '5f83873b-d3de-4406-a504-e45c2fd570e0', 'side': 'bid', 'ord_type': 'limit', 'price': '80850000.0', 'state': 'done', 'market': 'KRW-BTC', 'created_at': '2021-04-15T00:23:09+09:00', 'volume': '0.0001', 'remaining_volume': '0.0', 'reserved_fee': '4.0425', 'remaining_fee': '0.0', 'paid_fee': '4.0425', 'locked': '0.0', 'executed_volume': '0.0001', 'trades_count': 1}]\n"
     ]
    },
    {
     "name": "stdout",
     "output_type": "stream",
     "text": [
      "try to cancel!\n",
      "callback ## {'request': {'id': 'test1618413790.152', 'type': 'buy', 'price': 80850000.0, 'amount': 0.0001, 'date_time': '2021-04-15T00:23:10'}, 'type': 'buy', 'price': 80850000.0, 'amount': '0.0001', 'msg': 'success'}\n",
      "canceled order test1618413790.152\n"
     ]
    },
    {
     "name": "stderr",
     "output_type": "stream",
     "text": [
      "2021-04-15 00:23:20,418 DEBUG   UpbitTrader-Worker - Worker[UpbitTrader-Worker:16476] GO ----------\n",
      "2021-04-15 00:23:20,419 DEBUG   UpbitTrader-Worker - Worker[UpbitTrader-Worker:16476] WAIT ==========\n"
     ]
    }
   ],
   "source": [
    "def cancel():\n",
    "    upbitTrader = UpbitTrader()\n",
    "    now = datetime.now().strftime(ISO_DATEFORMAT)\n",
    "    request = {\n",
    "        \"id\": \"test\" + str(round(time.time(), 3)),\n",
    "        \"type\": \"buy\",\n",
    "        \"price\": 80850000.0,\n",
    "        \"amount\": 0.0001,\n",
    "        \"date_time\": now,\n",
    "    }\n",
    "\n",
    "    is_waiting = True\n",
    "    start_time = time.time()\n",
    "    def callback(info):\n",
    "        print(f\"callback ## {info}\")\n",
    "        nonlocal is_waiting\n",
    "        is_waiting = False\n",
    "\n",
    "    upbitTrader.send_request(request, callback)\n",
    "\n",
    "    while is_waiting:\n",
    "        if time.time() - start_time > 10:\n",
    "            break\n",
    "        print(\"waiting...\")\n",
    "        time.sleep(1)\n",
    "\n",
    "    if is_waiting is True:\n",
    "        print(\"try to cancel!\")\n",
    "        upbitTrader.cancel_request(request[\"id\"])\n",
    "        print(f\"canceled order {request['id']}\")\n",
    "\n",
    "cancel()"
   ]
  },
  {
   "cell_type": "markdown",
   "id": "mounted-consent",
   "metadata": {},
   "source": [
    "### 현재 계좌 정보 조회"
   ]
  },
  {
   "cell_type": "code",
   "execution_count": 4,
   "id": "premium-knight",
   "metadata": {},
   "outputs": [
    {
     "name": "stderr",
     "output_type": "stream",
     "text": [
      "2021-04-13 23:01:38,735 DEBUG   UpbitTrader-Worker - Worker[UpbitTrader-Worker:34296] WAIT ==========\n",
      "2021-04-13 23:01:39,327 DEBUG          UpbitTrader - account info [{'currency': 'KRW', 'balance': '63592.4361304', 'locked': '0.0', 'avg_buy_price': '0', 'avg_buy_price_modified': True, 'unit_currency': 'KRW'}, {'currency': 'BTC', 'balance': '0.04749335', 'locked': '0.0', 'avg_buy_price': '40357999.99', 'avg_buy_price_modified': False, 'unit_currency': 'KRW'}, {'currency': 'XRP', 'balance': '0.00000026', 'locked': '0.0', 'avg_buy_price': '550', 'avg_buy_price_modified': False, 'unit_currency': 'KRW'}]\n"
     ]
    },
    {
     "name": "stdout",
     "output_type": "stream",
     "text": [
      "{'asset': {'BTC': ('40357999.99', '0.04749335')}, 'quote': {'BTC': 81078000.0}, 'balance': '63592.4361304'}\n",
      "# balance 63592.4361304\n",
      "# asset {'BTC': ('40357999.99', '0.04749335')}\n",
      "# quote {'BTC': 81078000.0}\n"
     ]
    }
   ],
   "source": [
    "def query_account():\n",
    "    upbitTrader = UpbitTrader()\n",
    "    result = upbitTrader.get_account_info()\n",
    "    print(result)\n",
    "    print(f\"# balance {result['balance']}\")\n",
    "    print(f\"# asset {result['asset']}\")\n",
    "    print(f\"# quote {result['quote']}\")\n",
    "\n",
    "query_account()"
   ]
  },
  {
   "cell_type": "markdown",
   "id": "general-thread",
   "metadata": {},
   "source": [
    "### 시장가격으로 총액 10,000원 만큼 BTC를 매수"
   ]
  },
  {
   "cell_type": "code",
   "execution_count": 5,
   "id": "adapted-wholesale",
   "metadata": {},
   "outputs": [
    {
     "name": "stderr",
     "output_type": "stream",
     "text": [
      "2021-04-13 23:01:50,207 DEBUG   UpbitTrader-Worker - Worker[UpbitTrader-Worker:13668] WAIT ==========\n",
      "2021-04-13 23:01:50,211 DEBUG   UpbitTrader-Worker - Worker[UpbitTrader-Worker:13668] GO ----------\n",
      "2021-04-13 23:01:50,212  INFO          UpbitTrader - ORDER ##### BUY\n",
      "2021-04-13 23:01:50,217  INFO          UpbitTrader - KRW-BTC, price: 10000, volume: None\n",
      "2021-04-13 23:01:50,352 DEBUG          UpbitTrader - request inserted {'uuid': 'be73e636-4712-46a7-83c5-3f20bc18d3d6', 'callback': <function test_buy_btc_10000.<locals>.callback at 0x0000017494658E18>, 'result': {'request': {'id': 'test1618322510.211', 'type': 'buy', 'price': 10000, 'amount': None, 'date_time': '2021-04-13T23:01:50'}, 'type': 'buy', 'price': 10000, 'amount': None, 'msg': 'success'}}\n",
      "2021-04-13 23:01:50,352 DEBUG   UpbitTrader-Worker - Worker[UpbitTrader-Worker:13668] WAIT ==========\n"
     ]
    },
    {
     "name": "stdout",
     "output_type": "stream",
     "text": [
      "waiting...\n",
      "waiting...\n"
     ]
    },
    {
     "name": "stderr",
     "output_type": "stream",
     "text": [
      "2021-04-13 23:01:55,353 DEBUG   UpbitTrader-Worker - Worker[UpbitTrader-Worker:13668] GO ----------\n",
      "2021-04-13 23:01:55,429 DEBUG          UpbitTrader - waiting order count 1\n",
      "2021-04-13 23:01:55,429 DEBUG          UpbitTrader - find order! {'uuid': 'be73e636-4712-46a7-83c5-3f20bc18d3d6', 'callback': <function test_buy_btc_10000.<locals>.callback at 0x0000017494658E18>, 'result': {'request': {'id': 'test1618322510.211', 'type': 'buy', 'price': 10000, 'amount': None, 'date_time': '2021-04-13T23:01:50'}, 'type': 'buy', 'price': 10000, 'amount': None, 'msg': 'success'}} {'uuid': 'be73e636-4712-46a7-83c5-3f20bc18d3d6', 'side': 'bid', 'ord_type': 'price', 'price': '10000.0', 'state': 'cancel', 'market': 'KRW-BTC', 'created_at': '2021-04-13T23:01:50+09:00', 'volume': None, 'remaining_volume': None, 'reserved_fee': '5.0', 'remaining_fee': '0.00010475', 'paid_fee': '4.99989525', 'locked': '0.20960475', 'executed_volume': '0.00012334', 'trades_count': 1}\n",
      "2021-04-13 23:01:55,429 DEBUG          UpbitTrader - After update, waiting order count 0\n",
      "2021-04-13 23:01:55,445 DEBUG   UpbitTrader-Worker - Worker[UpbitTrader-Worker:13668] WAIT ==========\n"
     ]
    },
    {
     "name": "stdout",
     "output_type": "stream",
     "text": [
      "{'request': {'id': 'test1618322510.211', 'type': 'buy', 'price': 10000, 'amount': None, 'date_time': '2021-04-13T23:01:50'}, 'type': 'buy', 'price': 10000, 'amount': None, 'msg': 'success', 'date_time': '2021-04-13T23:01:50+09:00'}\n"
     ]
    }
   ],
   "source": [
    "def test_buy_btc_10000():\n",
    "    upbitTrader = UpbitTrader()\n",
    "    now = datetime.now().strftime(ISO_DATEFORMAT)\n",
    "    request = {\n",
    "        \"id\": \"test\" + str(round(time.time(), 3)),\n",
    "        \"type\": \"buy\",\n",
    "        \"price\": 10000,\n",
    "        \"amount\": None,\n",
    "        \"date_time\": now,\n",
    "    }\n",
    "\n",
    "    is_waiting = True\n",
    "    start_time = time.time()\n",
    "    def callback(info):\n",
    "        print(f\"callback ## {info}\")\n",
    "        nonlocal is_waiting\n",
    "        is_waiting = False\n",
    "\n",
    "    upbitTrader.send_request(request, callback)\n",
    "\n",
    "    while is_waiting:\n",
    "        if time.time() - start_time > 10:\n",
    "            break\n",
    "        print(\"waiting...\")\n",
    "        time.sleep(3)\n",
    "\n",
    "test_buy_btc_10000()"
   ]
  },
  {
   "cell_type": "markdown",
   "id": "rural-evolution",
   "metadata": {},
   "source": [
    "### 시장가격으로 0.00014864 만큼 BTC를 매도"
   ]
  },
  {
   "cell_type": "code",
   "execution_count": 6,
   "id": "tight-status",
   "metadata": {},
   "outputs": [
    {
     "name": "stderr",
     "output_type": "stream",
     "text": [
      "2021-04-13 23:02:42,179 DEBUG   UpbitTrader-Worker - Worker[UpbitTrader-Worker:14124] WAIT ==========\n",
      "2021-04-13 23:02:42,183 DEBUG   UpbitTrader-Worker - Worker[UpbitTrader-Worker:14124] GO ----------\n",
      "2021-04-13 23:02:42,184  INFO          UpbitTrader - ORDER ##### SELL\n",
      "2021-04-13 23:02:42,186  INFO          UpbitTrader - KRW-BTC, price: None, volume: 0.00014864\n",
      "2021-04-13 23:02:42,307 DEBUG          UpbitTrader - request inserted {'uuid': '68aa2c65-e242-4b03-80af-74c551be829b', 'callback': <function sell_btc_00014864.<locals>.callback at 0x00000174D8BD3730>, 'result': {'request': {'id': 'test1618322562.182', 'type': 'sell', 'price': None, 'amount': 0.00014864, 'date_time': '2021-04-13T23:02:42'}, 'type': 'sell', 'price': None, 'amount': 0.00014864, 'msg': 'success'}}\n",
      "2021-04-13 23:02:42,307 DEBUG   UpbitTrader-Worker - Worker[UpbitTrader-Worker:14124] WAIT ==========\n"
     ]
    },
    {
     "name": "stdout",
     "output_type": "stream",
     "text": [
      "waiting...\n",
      "waiting...\n"
     ]
    },
    {
     "name": "stderr",
     "output_type": "stream",
     "text": [
      "2021-04-13 23:02:47,307 DEBUG   UpbitTrader-Worker - Worker[UpbitTrader-Worker:14124] GO ----------\n",
      "2021-04-13 23:02:47,381 DEBUG          UpbitTrader - waiting order count 1\n",
      "2021-04-13 23:02:47,381 DEBUG          UpbitTrader - find order! {'uuid': '68aa2c65-e242-4b03-80af-74c551be829b', 'callback': <function sell_btc_00014864.<locals>.callback at 0x00000174D8BD3730>, 'result': {'request': {'id': 'test1618322562.182', 'type': 'sell', 'price': None, 'amount': 0.00014864, 'date_time': '2021-04-13T23:02:42'}, 'type': 'sell', 'price': None, 'amount': 0.00014864, 'msg': 'success'}} {'uuid': '68aa2c65-e242-4b03-80af-74c551be829b', 'side': 'ask', 'ord_type': 'market', 'price': None, 'state': 'done', 'market': 'KRW-BTC', 'created_at': '2021-04-13T23:02:42+09:00', 'volume': '0.00014864', 'remaining_volume': '0.0', 'reserved_fee': '0.0', 'remaining_fee': '0.0', 'paid_fee': '6.02259552', 'locked': '0.0', 'executed_volume': '0.00014864', 'trades_count': 1}\n",
      "2021-04-13 23:02:47,381 DEBUG          UpbitTrader - After update, waiting order count 0\n",
      "2021-04-13 23:02:47,381 DEBUG   UpbitTrader-Worker - Worker[UpbitTrader-Worker:14124] WAIT ==========\n"
     ]
    },
    {
     "name": "stdout",
     "output_type": "stream",
     "text": [
      "callback {'request': {'id': 'test1618322562.182', 'type': 'sell', 'price': None, 'amount': 0.00014864, 'date_time': '2021-04-13T23:02:42'}, 'type': 'sell', 'price': None, 'amount': 0.00014864, 'msg': 'success', 'date_time': '2021-04-13T23:02:42+09:00'}\n"
     ]
    }
   ],
   "source": [
    "def sell_btc_00014864():\n",
    "    upbitTrader = UpbitTrader()\n",
    "    now = datetime.now().strftime(ISO_DATEFORMAT)\n",
    "    request = {\n",
    "        \"id\": \"test\" + str(round(time.time(), 3)),\n",
    "        \"type\": \"sell\",\n",
    "        \"price\": None,\n",
    "        \"amount\": 0.00014864,\n",
    "        \"date_time\": now,\n",
    "    }\n",
    "\n",
    "    is_waiting = True\n",
    "    start_time = time.time()\n",
    "    def callback(info):\n",
    "        print(f\"callback ## {info}\")\n",
    "        nonlocal is_waiting\n",
    "        is_waiting = False\n",
    "\n",
    "    upbitTrader.send_request(request, callback)\n",
    "\n",
    "    while is_waiting:\n",
    "        if time.time() - start_time > 10:\n",
    "            break\n",
    "        print(\"waiting...\")\n",
    "        time.sleep(3)\n",
    "\n",
    "sell_btc_00014864()"
   ]
  },
  {
   "cell_type": "markdown",
   "id": "junior-strain",
   "metadata": {},
   "source": [
    "### 주문 목록 조회"
   ]
  },
  {
   "cell_type": "code",
   "execution_count": 6,
   "id": "successful-belle",
   "metadata": {},
   "outputs": [
    {
     "name": "stderr",
     "output_type": "stream",
     "text": [
      "2021-04-15 00:11:29,584 DEBUG   UpbitTrader-Worker - Worker[UpbitTrader-Worker:26280] WAIT ==========\n"
     ]
    },
    {
     "name": "stdout",
     "output_type": "stream",
     "text": [
      "[{'uuid': '16c1e6ec-4671-407d-be21-c3bd3dd1f672', 'side': 'bid', 'ord_type': 'limit', 'price': '80800000.0', 'state': 'cancel', 'market': 'KRW-BTC', 'created_at': '2021-04-15T00:08:57+09:00', 'volume': '0.0001', 'remaining_volume': '0.0001', 'reserved_fee': '4.04', 'remaining_fee': '4.04', 'paid_fee': '0.0', 'locked': '8084.04', 'executed_volume': '0.0', 'trades_count': 0}]\n"
     ]
    }
   ],
   "source": [
    "def query_done_state_orders():\n",
    "    upbitTrader = UpbitTrader()\n",
    "    result = upbitTrader._query_order_list([\n",
    "        '16c1e6ec-4671-407d-be21-c3bd3dd1f672',\n",
    "#         'be73e636-4712-46a7-83c5-3f20bc18d3d6'\n",
    "    ], True)\n",
    "    print(result)\n",
    "\n",
    "query_done_state_orders()"
   ]
  },
  {
   "cell_type": "markdown",
   "id": "previous-acrylic",
   "metadata": {},
   "source": [
    "### 대기 주문 목록 조회"
   ]
  },
  {
   "cell_type": "code",
   "execution_count": 8,
   "id": "seasonal-footage",
   "metadata": {},
   "outputs": [
    {
     "name": "stderr",
     "output_type": "stream",
     "text": [
      "2021-04-13 23:04:49,179 DEBUG   UpbitTrader-Worker - Worker[UpbitTrader-Worker:18640] WAIT ==========\n"
     ]
    },
    {
     "name": "stdout",
     "output_type": "stream",
     "text": [
      "[]\n"
     ]
    }
   ],
   "source": [
    "def query_wait_state_orders():\n",
    "    upbitTrader = UpbitTrader()\n",
    "    result = upbitTrader._query_order_list([\n",
    "        '70e28d54-73b5-49f8-a8f3-c46a628c8bfe',\n",
    "         'be73e636-4712-46a7-83c5-3f20bc18d3d6'\n",
    "    ], False)\n",
    "    print(result)\n",
    "\n",
    "query_wait_state_orders()"
   ]
  },
  {
   "cell_type": "code",
   "execution_count": null,
   "id": "retained-northern",
   "metadata": {},
   "outputs": [],
   "source": []
  }
 ],
 "metadata": {
  "kernelspec": {
   "display_name": "Python 3",
   "language": "python",
   "name": "python3"
  },
  "language_info": {
   "codemirror_mode": {
    "name": "ipython",
    "version": 3
   },
   "file_extension": ".py",
   "mimetype": "text/x-python",
   "name": "python",
   "nbconvert_exporter": "python",
   "pygments_lexer": "ipython3",
   "version": "3.6.8"
  }
 },
 "nbformat": 4,
 "nbformat_minor": 5
}
