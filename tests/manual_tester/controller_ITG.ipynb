{
 "cells": [
  {
   "cell_type": "code",
   "execution_count": null,
   "id": "biological-action",
   "metadata": {},
   "outputs": [],
   "source": [
    "import os\n",
    "os.chdir('../../')"
   ]
  },
  {
   "cell_type": "markdown",
   "id": "latin-simple",
   "metadata": {},
   "source": [
    "### 현재 디렉토리가 smtm 프로젝트 root로 설정되었는지 확인\n",
    "분석 결과 파일이 저장될 output 폴더 생성"
   ]
  },
  {
   "cell_type": "code",
   "execution_count": null,
   "id": "frozen-sarah",
   "metadata": {},
   "outputs": [],
   "source": [
    "print(\"현재 디렉토리 \" , os.getcwd())"
   ]
  },
  {
   "cell_type": "code",
   "execution_count": null,
   "id": "herbal-addition",
   "metadata": {},
   "outputs": [],
   "source": [
    "if os.path.isdir(\"output\") is False:\n",
    "    os.mkdir(\"output\")"
   ]
  },
  {
   "cell_type": "code",
   "execution_count": null,
   "id": "loving-software",
   "metadata": {},
   "outputs": [],
   "source": [
    "from smtm import Controller"
   ]
  },
  {
   "cell_type": "code",
   "execution_count": null,
   "id": "south-december",
   "metadata": {},
   "outputs": [],
   "source": [
    "controller = Controller(interval=10)"
   ]
  },
  {
   "cell_type": "code",
   "execution_count": null,
   "id": "criminal-tutorial",
   "metadata": {},
   "outputs": [],
   "source": [
    "controller.main()"
   ]
  },
  {
   "cell_type": "code",
   "execution_count": null,
   "id": "brutal-abortion",
   "metadata": {},
   "outputs": [],
   "source": []
  },
  {
   "cell_type": "code",
   "execution_count": null,
   "id": "smooth-perth",
   "metadata": {},
   "outputs": [],
   "source": [
    "import requests\n",
    "import threading\n",
    "import time\n",
    "from smtm import LogManager\n",
    "from smtm import Analyzer\n",
    "from smtm import StrategyBuyAndHold\n",
    "from smtm import StrategySma0\n",
    "from smtm import Operator\n",
    "from smtm import UpbitTrader\n",
    "from smtm import UpbitDataProvider\n",
    "from smtm import LogManager\n",
    "\n",
    "operator = Operator()\n",
    "operator.initialize(\n",
    "    UpbitDataProvider(),\n",
    "    StrategyBuyAndHold(),\n",
    "    UpbitTrader(),\n",
    "    Analyzer(),\n",
    "    50000\n",
    ")"
   ]
  },
  {
   "cell_type": "code",
   "execution_count": null,
   "id": "applied-hygiene",
   "metadata": {},
   "outputs": [],
   "source": [
    "operator.set_interval(10)"
   ]
  },
  {
   "cell_type": "code",
   "execution_count": null,
   "id": "bulgarian-freeware",
   "metadata": {},
   "outputs": [],
   "source": [
    "operator.start()"
   ]
  },
  {
   "cell_type": "code",
   "execution_count": null,
   "id": "southern-survey",
   "metadata": {},
   "outputs": [],
   "source": [
    "operator.stop()"
   ]
  },
  {
   "cell_type": "code",
   "execution_count": null,
   "id": "competent-language",
   "metadata": {},
   "outputs": [],
   "source": [
    "operator.start()"
   ]
  },
  {
   "cell_type": "code",
   "execution_count": null,
   "id": "filled-satellite",
   "metadata": {},
   "outputs": [],
   "source": [
    "operator.stop()"
   ]
  },
  {
   "cell_type": "code",
   "execution_count": null,
   "id": "related-virtue",
   "metadata": {},
   "outputs": [],
   "source": [
    "operator.strategy.is_intialized"
   ]
  },
  {
   "cell_type": "code",
   "execution_count": null,
   "id": "theoretical-indonesia",
   "metadata": {},
   "outputs": [],
   "source": [
    "\"{0:.4f}\".format(round(1234567, 4))"
   ]
  },
  {
   "cell_type": "code",
   "execution_count": null,
   "id": "cardiac-senate",
   "metadata": {},
   "outputs": [],
   "source": [
    "\"{0:10}    도움말 출력\".format(\"h, help\")"
   ]
  },
  {
   "cell_type": "code",
   "execution_count": null,
   "id": "revised-warrior",
   "metadata": {},
   "outputs": [],
   "source": [
    "\"2018-04-10T15:09:00+09:00\".replace(\"+09:00\", \"\")"
   ]
  },
  {
   "cell_type": "code",
   "execution_count": null,
   "id": "applied-hollywood",
   "metadata": {},
   "outputs": [],
   "source": []
  }
 ],
 "metadata": {
  "kernelspec": {
   "display_name": "Python 3",
   "language": "python",
   "name": "python3"
  },
  "language_info": {
   "codemirror_mode": {
    "name": "ipython",
    "version": 3
   },
   "file_extension": ".py",
   "mimetype": "text/x-python",
   "name": "python",
   "nbconvert_exporter": "python",
   "pygments_lexer": "ipython3",
   "version": "3.6.8"
  }
 },
 "nbformat": 4,
 "nbformat_minor": 5
}
