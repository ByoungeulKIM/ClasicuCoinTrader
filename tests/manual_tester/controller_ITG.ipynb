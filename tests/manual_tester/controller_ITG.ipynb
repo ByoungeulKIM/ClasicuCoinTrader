{
 "cells": [
  {
   "cell_type": "code",
   "execution_count": 1,
   "id": "biological-action",
   "metadata": {},
   "outputs": [],
   "source": [
    "import os\n",
    "os.chdir('../../')"
   ]
  },
  {
   "cell_type": "markdown",
   "id": "latin-simple",
   "metadata": {},
   "source": [
    "### 현재 디렉토리가 smtm 프로젝트 root로 설정되었는지 확인"
   ]
  },
  {
   "cell_type": "code",
   "execution_count": 2,
   "id": "frozen-sarah",
   "metadata": {},
   "outputs": [
    {
     "name": "stdout",
     "output_type": "stream",
     "text": [
      "현재 디렉토리  C:\\01_Code\\smtm\n"
     ]
    }
   ],
   "source": [
    "print(\"현재 디렉토리 \" , os.getcwd())"
   ]
  },
  {
   "cell_type": "code",
   "execution_count": 3,
   "id": "loving-software",
   "metadata": {},
   "outputs": [],
   "source": [
    "from smtm import Controller"
   ]
  },
  {
   "cell_type": "code",
   "execution_count": 4,
   "id": "south-december",
   "metadata": {},
   "outputs": [],
   "source": [
    "controller = Controller(interval=10)"
   ]
  },
  {
   "cell_type": "code",
   "execution_count": 5,
   "id": "criminal-tutorial",
   "metadata": {},
   "outputs": [
    {
     "name": "stdout",
     "output_type": "stream",
     "text": [
      "##### smtm is intialized #####\n",
      "interval: 10\n",
      "==============================\n",
      "명령어를 입력하세요. (h: 도움말): r\n"
     ]
    },
    {
     "name": "stderr",
     "output_type": "stream",
     "text": [
      "2021-04-11 23:20:57,440 ERROR          UpbitTrader - 400 Client Error: Bad Request for url: https://api.upbit.com/v1/orders?market=KRW-BTC&side=bid&volume=0.0001&price=77717000.0&ord_type=limit\n",
      "2021-04-11 23:20:57,440 ERROR             Operator - request fail\n",
      "2021-04-11 23:21:07,469 ERROR          UpbitTrader - 400 Client Error: Bad Request for url: https://api.upbit.com/v1/orders?market=KRW-BTC&side=bid&volume=0.0001&price=77717000.0&ord_type=limit\n",
      "2021-04-11 23:21:07,485 ERROR             Operator - request fail\n"
     ]
    },
    {
     "name": "stdout",
     "output_type": "stream",
     "text": [
      "명령어를 입력하세요. (h: 도움말): s\n",
      "명령어를 입력하세요. (h: 도움말): t\n",
      "프로그램 종료 중.....\n",
      "Good Bye~\n"
     ]
    }
   ],
   "source": [
    "controller.main()"
   ]
  },
  {
   "cell_type": "code",
   "execution_count": null,
   "id": "brutal-abortion",
   "metadata": {},
   "outputs": [],
   "source": []
  },
  {
   "cell_type": "code",
   "execution_count": 3,
   "id": "smooth-perth",
   "metadata": {},
   "outputs": [
    {
     "name": "stderr",
     "output_type": "stream",
     "text": [
      "2021-04-08 23:37:34,195 DEBUG   UpbitTrader-Worker - Worker[UpbitTrader-Worker:23472] WAIT ==========\n"
     ]
    }
   ],
   "source": [
    "import requests\n",
    "import threading\n",
    "import time\n",
    "from smtm import LogManager\n",
    "from smtm import Analyzer\n",
    "from smtm import StrategyBuyAndHold\n",
    "from smtm import StrategySma0\n",
    "from smtm import Operator\n",
    "from smtm import UpbitTrader\n",
    "from smtm import UpbitDataProvider\n",
    "from smtm import LogManager\n",
    "\n",
    "operator = Operator()\n",
    "operator.initialize(\n",
    "    UpbitDataProvider(),\n",
    "    StrategyBuyAndHold(),\n",
    "    UpbitTrader(),\n",
    "    Analyzer(),\n",
    "    50000\n",
    ")"
   ]
  },
  {
   "cell_type": "code",
   "execution_count": 4,
   "id": "applied-hygiene",
   "metadata": {},
   "outputs": [],
   "source": [
    "operator.set_interval(10)"
   ]
  },
  {
   "cell_type": "code",
   "execution_count": 5,
   "id": "bulgarian-freeware",
   "metadata": {},
   "outputs": [
    {
     "name": "stderr",
     "output_type": "stream",
     "text": [
      "2021-04-08 23:37:36,811  INFO             Operator - ===== Start operating =====\n",
      "2021-04-08 23:37:36,814 DEBUG      Operator-Worker - Worker[Operator-Worker:14592] WAIT ==========\n",
      "2021-04-08 23:37:36,824 DEBUG      Operator-Worker - Worker[Operator-Worker:14592] GO ----------\n"
     ]
    },
    {
     "data": {
      "text/plain": [
       "True"
      ]
     },
     "execution_count": 5,
     "metadata": {},
     "output_type": "execute_result"
    },
    {
     "name": "stderr",
     "output_type": "stream",
     "text": [
      "2021-04-08 23:37:36,825 DEBUG             Operator - trading is started #####################\n",
      "2021-04-08 23:37:37,338 DEBUG             Operator - trading_info {'market': 'KRW-BTC', 'date_time': '2021-04-08T23:37:00', 'opening_price': 74656000.0, 'high_price': 74670000.0, 'low_price': 74573000.0, 'closing_price': 74650000.0, 'acc_price': 442809691.1244, 'acc_volume': 5.93120895}\n",
      "2021-04-08 23:37:37,341  INFO   StrategyBuyAndHold - [REQ] id: 1617892657.342 =====================\n",
      "2021-04-08 23:37:37,342  INFO   StrategyBuyAndHold - type: buy\n",
      "2021-04-08 23:37:37,343  INFO   StrategyBuyAndHold - price: 74650000.0, amount: 0.0001\n",
      "2021-04-08 23:37:37,344  INFO   StrategyBuyAndHold - total value: 7465\n",
      "2021-04-08 23:37:37,345  INFO   StrategyBuyAndHold - ================================================\n",
      "2021-04-08 23:37:37,346 DEBUG             Operator - target_request {'id': '1617892657.342', 'type': 'buy', 'price': 74650000.0, 'amount': 0.0001, 'date_time': '2021-04-08T23:37:00'}\n",
      "2021-04-08 23:37:37,347 DEBUG             Operator - trading is completed #####################\n",
      "2021-04-08 23:37:37,348 DEBUG   UpbitTrader-Worker - Worker[UpbitTrader-Worker:23472] GO ----------\n",
      "2021-04-08 23:37:37,348 DEBUG             Operator - start timer False : running : 14592\n",
      "2021-04-08 23:37:37,349  INFO          UpbitTrader - ORDER ##### BUY\n",
      "2021-04-08 23:37:37,350 DEBUG      Operator-Worker - Worker[Operator-Worker:14592] WAIT ==========\n",
      "2021-04-08 23:37:37,351  INFO          UpbitTrader - KRW-BTC, price: 74650000.0, volume: 0.0001\n",
      "2021-04-08 23:37:37,404 ERROR          UpbitTrader - b'market=KRW-BTC&side=bid&volume=0.0001&price=74650000.0&ord_type=limit'\n",
      "2021-04-08 23:37:37,565 DEBUG   UpbitTrader-Worker - Worker[UpbitTrader-Worker:23472] WAIT ==========\n",
      "2021-04-08 23:37:42,574 DEBUG   UpbitTrader-Worker - Worker[UpbitTrader-Worker:23472] GO ----------\n",
      "2021-04-08 23:37:42,660 ERROR          UpbitTrader - 400 Client Error: Bad Request for url: https://api.upbit.com/v1/orders?states[]=done&states[]=wait&states[]=cancel\n",
      "2021-04-08 23:37:42,661 DEBUG          UpbitTrader - waiting order count 1\n",
      "Exception in thread UpbitTrader-Worker:\n",
      "Traceback (most recent call last):\n",
      "  File \"c:\\users\\saltj\\appdata\\local\\programs\\python\\python36\\Lib\\threading.py\", line 916, in _bootstrap_inner\n",
      "    self.run()\n",
      "  File \"c:\\users\\saltj\\appdata\\local\\programs\\python\\python36\\Lib\\threading.py\", line 864, in run\n",
      "    self._target(*self._args, **self._kwargs)\n",
      "  File \"C:\\01_Code\\smtm\\smtm\\worker.py\", line 55, in looper\n",
      "    runnable(task)\n",
      "  File \"C:\\01_Code\\smtm\\smtm\\upbit_trader.py\", line 132, in _query_order_result\n",
      "    for order in results:\n",
      "TypeError: 'NoneType' object is not iterable\n",
      "\n",
      "2021-04-08 23:37:47,351 DEBUG      Operator-Worker - Worker[Operator-Worker:14592] GO ----------\n",
      "2021-04-08 23:37:47,353 DEBUG             Operator - trading is started #####################\n",
      "2021-04-08 23:37:47,411 DEBUG             Operator - trading_info {'market': 'KRW-BTC', 'date_time': '2021-04-08T23:37:00', 'opening_price': 74656000.0, 'high_price': 74670000.0, 'low_price': 74520000.0, 'closing_price': 74570000.0, 'acc_price': 581494921.47676, 'acc_volume': 7.79071628}\n",
      "2021-04-08 23:37:47,413  INFO   StrategyBuyAndHold - [REQ] id: 1617892667.414 =====================\n",
      "2021-04-08 23:37:47,415  INFO   StrategyBuyAndHold - type: buy\n",
      "2021-04-08 23:37:47,416  INFO   StrategyBuyAndHold - price: 74570000.0, amount: 0.0001\n",
      "2021-04-08 23:37:47,418  INFO   StrategyBuyAndHold - total value: 7457\n",
      "2021-04-08 23:37:47,419  INFO   StrategyBuyAndHold - ================================================\n",
      "2021-04-08 23:37:47,420 DEBUG             Operator - target_request {'id': '1617892667.414', 'type': 'buy', 'price': 74570000.0, 'amount': 0.0001, 'date_time': '2021-04-08T23:37:00'}\n",
      "2021-04-08 23:37:47,421 DEBUG             Operator - trading is completed #####################\n",
      "2021-04-08 23:37:47,422 DEBUG             Operator - start timer False : running : 14592\n",
      "2021-04-08 23:37:47,423 DEBUG      Operator-Worker - Worker[Operator-Worker:14592] WAIT ==========\n",
      "2021-04-08 23:37:57,430 DEBUG      Operator-Worker - Worker[Operator-Worker:14592] GO ----------\n",
      "2021-04-08 23:37:57,432 DEBUG             Operator - trading is started #####################\n",
      "2021-04-08 23:37:57,484 DEBUG             Operator - trading_info {'market': 'KRW-BTC', 'date_time': '2021-04-08T23:37:00', 'opening_price': 74656000.0, 'high_price': 74670000.0, 'low_price': 74520000.0, 'closing_price': 74520000.0, 'acc_price': 625853277.82038, 'acc_volume': 8.38570763}\n",
      "2021-04-08 23:37:57,485  INFO   StrategyBuyAndHold - [REQ] id: 1617892677.486 =====================\n",
      "2021-04-08 23:37:57,487  INFO   StrategyBuyAndHold - type: buy\n",
      "2021-04-08 23:37:57,488  INFO   StrategyBuyAndHold - price: 74520000.0, amount: 0.0001\n",
      "2021-04-08 23:37:57,489  INFO   StrategyBuyAndHold - total value: 7452\n",
      "2021-04-08 23:37:57,490  INFO   StrategyBuyAndHold - ================================================\n",
      "2021-04-08 23:37:57,492 DEBUG             Operator - target_request {'id': '1617892677.486', 'type': 'buy', 'price': 74520000.0, 'amount': 0.0001, 'date_time': '2021-04-08T23:37:00'}\n",
      "2021-04-08 23:37:57,493 DEBUG             Operator - trading is completed #####################\n",
      "2021-04-08 23:37:57,494 DEBUG             Operator - start timer False : running : 14592\n",
      "2021-04-08 23:37:57,495 DEBUG      Operator-Worker - Worker[Operator-Worker:14592] WAIT ==========\n"
     ]
    }
   ],
   "source": [
    "operator.start()"
   ]
  },
  {
   "cell_type": "code",
   "execution_count": 6,
   "id": "southern-survey",
   "metadata": {},
   "outputs": [
    {
     "name": "stderr",
     "output_type": "stream",
     "text": [
      "2021-04-08 23:38:03,621  INFO             Operator - ===== Stop operating =====\n",
      "2021-04-08 23:38:03,623 DEBUG      Operator-Worker - Worker[Operator-Worker:14592] Termanited ..........\n"
     ]
    }
   ],
   "source": [
    "operator.stop()"
   ]
  },
  {
   "cell_type": "code",
   "execution_count": 7,
   "id": "competent-language",
   "metadata": {},
   "outputs": [
    {
     "name": "stderr",
     "output_type": "stream",
     "text": [
      "2021-04-07 11:49:55,598 INFO             Operator - ===== Start operating =====\n",
      "2021-04-07 11:49:55,600 DEBUG      Operator-Worker - Worker[Operator-Worker:17904] WAIT ==========\n",
      "2021-04-07 11:49:55,605 DEBUG      Operator-Worker - Worker[Operator-Worker:17904] GO ----------\n"
     ]
    },
    {
     "data": {
      "text/plain": [
       "True"
      ]
     },
     "execution_count": 7,
     "metadata": {},
     "output_type": "execute_result"
    },
    {
     "name": "stderr",
     "output_type": "stream",
     "text": [
      "2021-04-07 11:49:55,606 DEBUG             Operator - trading is started #####################\n",
      "2021-04-07 11:49:55,673 DEBUG             Operator - trading_info\n",
      "2021-04-07 11:49:55,675 DEBUG             Operator - {'market': 'KRW-BTC', 'date_time': '2021-04-07T11:49:00', 'opening_price': 79301000.0, 'high_price': 79345000.0, 'low_price': 79301000.0, 'closing_price': 79345000.0, 'acc_price': 661499225.38343, 'acc_volume': 8.33902094}\n",
      "2021-04-07 11:49:55,675 DEBUG             Operator - target_request\n",
      "2021-04-07 11:49:55,676 DEBUG             Operator - None\n",
      "2021-04-07 11:49:55,677 DEBUG             Operator - trading is completed #####################\n",
      "2021-04-07 11:49:55,678 DEBUG             Operator - start timer False : running : 17904\n",
      "2021-04-07 11:49:55,679 DEBUG      Operator-Worker - Worker[Operator-Worker:17904] WAIT ==========\n",
      "2021-04-07 11:50:00,680 DEBUG      Operator-Worker - Worker[Operator-Worker:17904] GO ----------\n",
      "2021-04-07 11:50:00,680 DEBUG             Operator - trading is started #####################\n",
      "2021-04-07 11:50:00,725 DEBUG             Operator - trading_info\n",
      "2021-04-07 11:50:00,727 DEBUG             Operator - {'market': 'KRW-BTC', 'date_time': '2021-04-07T11:50:00', 'opening_price': 79350000.0, 'high_price': 79350000.0, 'low_price': 79350000.0, 'closing_price': 79350000.0, 'acc_price': 1175664.6765, 'acc_volume': 0.01481619}\n",
      "2021-04-07 11:50:00,728 DEBUG             Operator - target_request\n",
      "2021-04-07 11:50:00,728 DEBUG             Operator - None\n",
      "2021-04-07 11:50:00,729 DEBUG             Operator - trading is completed #####################\n",
      "2021-04-07 11:50:00,729 DEBUG             Operator - start timer False : running : 17904\n",
      "2021-04-07 11:50:00,730 DEBUG      Operator-Worker - Worker[Operator-Worker:17904] WAIT ==========\n",
      "2021-04-07 11:50:05,745 DEBUG      Operator-Worker - Worker[Operator-Worker:17904] GO ----------\n",
      "2021-04-07 11:50:05,745 DEBUG             Operator - trading is started #####################\n",
      "2021-04-07 11:50:05,790 DEBUG             Operator - trading_info\n",
      "2021-04-07 11:50:05,791 DEBUG             Operator - {'market': 'KRW-BTC', 'date_time': '2021-04-07T11:50:00', 'opening_price': 79350000.0, 'high_price': 79350000.0, 'low_price': 79349000.0, 'closing_price': 79350000.0, 'acc_price': 46940642.23981, 'acc_volume': 0.5915689}\n",
      "2021-04-07 11:50:05,791 DEBUG             Operator - target_request\n",
      "2021-04-07 11:50:05,791 DEBUG             Operator - None\n",
      "2021-04-07 11:50:05,792 DEBUG             Operator - trading is completed #####################\n",
      "2021-04-07 11:50:05,792 DEBUG             Operator - start timer False : running : 17904\n",
      "2021-04-07 11:50:05,794 DEBUG      Operator-Worker - Worker[Operator-Worker:17904] WAIT ==========\n"
     ]
    }
   ],
   "source": [
    "operator.start()"
   ]
  },
  {
   "cell_type": "code",
   "execution_count": 7,
   "id": "filled-satellite",
   "metadata": {},
   "outputs": [
    {
     "name": "stderr",
     "output_type": "stream",
     "text": [
      "2021-04-08 00:20:57,687 INFO             Operator - ===== Stop operating =====\n",
      "2021-04-08 00:20:57,689 DEBUG      Operator-Worker - Worker[Operator-Worker:14632] Termanited ..........\n"
     ]
    }
   ],
   "source": [
    "operator.stop()"
   ]
  },
  {
   "cell_type": "code",
   "execution_count": 9,
   "id": "related-virtue",
   "metadata": {},
   "outputs": [
    {
     "data": {
      "text/plain": [
       "False"
      ]
     },
     "execution_count": 9,
     "metadata": {},
     "output_type": "execute_result"
    }
   ],
   "source": [
    "operator.strategy.is_intialized"
   ]
  },
  {
   "cell_type": "code",
   "execution_count": 1,
   "id": "theoretical-indonesia",
   "metadata": {},
   "outputs": [
    {
     "data": {
      "text/plain": [
       "'1234567.0000'"
      ]
     },
     "execution_count": 1,
     "metadata": {},
     "output_type": "execute_result"
    }
   ],
   "source": [
    "\"{0:.4f}\".format(round(1234567, 4))"
   ]
  },
  {
   "cell_type": "code",
   "execution_count": 6,
   "id": "cardiac-senate",
   "metadata": {},
   "outputs": [
    {
     "data": {
      "text/plain": [
       "'h, help       도움말 출력'"
      ]
     },
     "execution_count": 6,
     "metadata": {},
     "output_type": "execute_result"
    }
   ],
   "source": [
    "\"{0:10}    도움말 출력\".format(\"h, help\")"
   ]
  },
  {
   "cell_type": "code",
   "execution_count": null,
   "id": "revised-warrior",
   "metadata": {},
   "outputs": [],
   "source": []
  }
 ],
 "metadata": {
  "kernelspec": {
   "display_name": "Python 3",
   "language": "python",
   "name": "python3"
  },
  "language_info": {
   "codemirror_mode": {
    "name": "ipython",
    "version": 3
   },
   "file_extension": ".py",
   "mimetype": "text/x-python",
   "name": "python",
   "nbconvert_exporter": "python",
   "pygments_lexer": "ipython3",
   "version": "3.6.8"
  }
 },
 "nbformat": 4,
 "nbformat_minor": 5
}
