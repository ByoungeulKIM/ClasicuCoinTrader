{
 "cells": [
  {
   "cell_type": "code",
   "execution_count": 1,
   "id": "turkish-african",
   "metadata": {},
   "outputs": [],
   "source": [
    "import logging\n",
    "\n",
    "stream_formatter = logging.Formatter(\n",
    "    fmt=\"%(asctime)s %(levelname)s - %(name)s - %(message)s\"\n",
    ")\n",
    "stream_handler = logging.StreamHandler()\n",
    "stream_handler.setLevel(logging.INFO)\n",
    "stream_handler.setFormatter(stream_formatter)"
   ]
  },
  {
   "cell_type": "code",
   "execution_count": 2,
   "id": "statewide-nature",
   "metadata": {},
   "outputs": [],
   "source": [
    "log = logging.getLogger(\"Log1\")\n",
    "log.addHandler(stream_handler)"
   ]
  },
  {
   "cell_type": "code",
   "execution_count": 33,
   "id": "strange-marriage",
   "metadata": {},
   "outputs": [
    {
     "name": "stderr",
     "output_type": "stream",
     "text": [
      "2021-02-14 11:17:11,844 WARNING - Log2 - warning msg\n",
      "2021-02-14 11:17:11,847 ERROR - Log2 - error msg\n"
     ]
    }
   ],
   "source": [
    "log2 = logging.getLogger(\"Log2\")\n",
    "log2.addHandler(stream_handler)\n",
    "log2.debug(\"debug msg\")\n",
    "log2.info(\"info msg\")\n",
    "log2.warning(\"warning msg\")\n",
    "log2.error(\"error msg\")"
   ]
  },
  {
   "cell_type": "code",
   "execution_count": 38,
   "id": "abstract-collapse",
   "metadata": {},
   "outputs": [
    {
     "name": "stderr",
     "output_type": "stream",
     "text": [
      "debug msg\n",
      "debug msg\n",
      "info msg\n",
      "info msg\n",
      "warning msg\n",
      "warning msg\n",
      "error msg\n",
      "error msg\n"
     ]
    },
    {
     "name": "stdout",
     "output_type": "stream",
     "text": [
      "<StreamHandler stderr (NOTSET)>\n"
     ]
    }
   ],
   "source": [
    "stream_handler2 = logging.StreamHandler()\n",
    "print(stream_handler2)\n",
    "log3 = logging.getLogger(\"Log3\")\n",
    "log3.setLevel(logging.DEBUG)\n",
    "log3.addHandler(stream_handler2)\n",
    "log3.debug(\"debug msg\")\n",
    "log3.info(\"info msg\")\n",
    "log3.warning(\"warning msg\")\n",
    "log3.error(\"error msg\")"
   ]
  },
  {
   "cell_type": "code",
   "execution_count": 24,
   "id": "regulated-street",
   "metadata": {},
   "outputs": [],
   "source": [
    "stream_handler.setLevel(logging.DEBUG)"
   ]
  },
  {
   "cell_type": "code",
   "execution_count": 17,
   "id": "saving-twins",
   "metadata": {},
   "outputs": [],
   "source": [
    "stream_handler.setLevel(logging.INFO)"
   ]
  },
  {
   "cell_type": "code",
   "execution_count": 19,
   "id": "classical-lingerie",
   "metadata": {},
   "outputs": [],
   "source": [
    "stream_handler.setLevel(logging.WARNING)"
   ]
  },
  {
   "cell_type": "code",
   "execution_count": 25,
   "id": "southwest-mileage",
   "metadata": {},
   "outputs": [
    {
     "name": "stderr",
     "output_type": "stream",
     "text": [
      "2021-02-14 11:10:14,786 DEBUG - Log1 - debug msg\n",
      "2021-02-14 11:10:14,788 INFO - Log1 - info msg\n",
      "2021-02-14 11:10:14,789 WARNING - Log1 - warning msg\n",
      "2021-02-14 11:10:14,790 ERROR - Log1 - error msg\n"
     ]
    }
   ],
   "source": [
    "log.setLevel(logging.DEBUG)\n",
    "log.debug(\"debug msg\")\n",
    "log.info(\"info msg\")\n",
    "log.warning(\"warning msg\")\n",
    "log.error(\"error msg\")"
   ]
  },
  {
   "cell_type": "code",
   "execution_count": 21,
   "id": "opened-majority",
   "metadata": {},
   "outputs": [
    {
     "name": "stderr",
     "output_type": "stream",
     "text": [
      "2021-02-14 11:09:53,933 WARNING - Log1 - warning msg\n",
      "2021-02-14 11:09:53,935 ERROR - Log1 - error msg\n"
     ]
    }
   ],
   "source": [
    "log.setLevel(logging.INFO)\n",
    "log.debug(\"debug msg\")\n",
    "log.info(\"info msg\")\n",
    "log.warning(\"warning msg\")\n",
    "log.error(\"error msg\")"
   ]
  },
  {
   "cell_type": "code",
   "execution_count": 27,
   "id": "handed-option",
   "metadata": {},
   "outputs": [
    {
     "name": "stderr",
     "output_type": "stream",
     "text": [
      "2021-02-14 11:10:18,581 WARNING - Log1 - warning msg\n",
      "2021-02-14 11:10:18,583 ERROR - Log1 - error msg\n"
     ]
    }
   ],
   "source": [
    "log.setLevel(logging.WARNING)\n",
    "log.debug(\"debug msg\")\n",
    "log.info(\"info msg\")\n",
    "log.warning(\"warning msg\")\n",
    "log.error(\"error msg\")"
   ]
  },
  {
   "cell_type": "code",
   "execution_count": 26,
   "id": "filled-cyprus",
   "metadata": {},
   "outputs": [
    {
     "name": "stderr",
     "output_type": "stream",
     "text": [
      "2021-02-14 11:10:17,002 ERROR - Log1 - error msg\n"
     ]
    }
   ],
   "source": [
    "log.setLevel(logging.ERROR)\n",
    "log.debug(\"debug msg\")\n",
    "log.info(\"info msg\")\n",
    "log.warning(\"warning msg\")\n",
    "log.error(\"error msg\")"
   ]
  },
  {
   "cell_type": "code",
   "execution_count": 31,
   "id": "orange-lighter",
   "metadata": {},
   "outputs": [
    {
     "name": "stderr",
     "output_type": "stream",
     "text": [
      "2021-02-14 11:11:35,372 ERROR - Log1 - test2\n"
     ]
    }
   ],
   "source": [
    "log2 = logging.getLogger(\"Log1\")\n",
    "log2.error(\"test2\")"
   ]
  },
  {
   "cell_type": "code",
   "execution_count": null,
   "id": "stone-specification",
   "metadata": {},
   "outputs": [],
   "source": [
    "log2.setLevel(logging.)"
   ]
  }
 ],
 "metadata": {
  "kernelspec": {
   "display_name": "Python 3",
   "language": "python",
   "name": "python3"
  },
  "language_info": {
   "codemirror_mode": {
    "name": "ipython",
    "version": 3
   },
   "file_extension": ".py",
   "mimetype": "text/x-python",
   "name": "python",
   "nbconvert_exporter": "python",
   "pygments_lexer": "ipython3",
   "version": "3.6.8"
  }
 },
 "nbformat": 4,
 "nbformat_minor": 5
}
