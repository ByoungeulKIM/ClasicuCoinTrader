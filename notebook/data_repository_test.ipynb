{
 "cells": [
  {
   "cell_type": "code",
   "execution_count": null,
   "id": "sunset-pontiac",
   "metadata": {},
   "outputs": [],
   "source": [
    "import os\n",
    "os.chdir('../')"
   ]
  },
  {
   "cell_type": "markdown",
   "id": "chronic-combining",
   "metadata": {},
   "source": [
    "### 현재 디렉토리가 smtm 프로젝트 root로 설정되었는지 확인\n",
    "분석 결과 파일이 저장될 output 폴더 생성"
   ]
  },
  {
   "cell_type": "code",
   "execution_count": null,
   "id": "similar-bunch",
   "metadata": {},
   "outputs": [],
   "source": [
    "print(\"현재 디렉토리 \" , os.getcwd())"
   ]
  },
  {
   "cell_type": "code",
   "execution_count": null,
   "id": "consistent-artwork",
   "metadata": {},
   "outputs": [],
   "source": [
    "from smtm import DataRepository"
   ]
  },
  {
   "cell_type": "code",
   "execution_count": null,
   "id": "excess-evaluation",
   "metadata": {},
   "outputs": [],
   "source": [
    "dr = DataRepository()"
   ]
  },
  {
   "cell_type": "code",
   "execution_count": null,
   "id": "light-spare",
   "metadata": {},
   "outputs": [],
   "source": [
    "dr.get_data(\"2020-02-20T14:02:00\", \"2020-02-20T23:51:00\", \"KRW-BTC\")"
   ]
  },
  {
   "cell_type": "code",
   "execution_count": null,
   "id": "frank-virus",
   "metadata": {},
   "outputs": [],
   "source": [
    "dr.get_data(\"2020-02-20T17:00:00\", \"2020-02-20T22:10:15\", \"KRW-BTC\")"
   ]
  },
  {
   "cell_type": "code",
   "execution_count": null,
   "id": "guided-receiver",
   "metadata": {},
   "outputs": [],
   "source": [
    "dr.get_data(\"2020-02-20T17:00:00\", \"2020-02-20T22:30:15\", \"KRW-BTC\")"
   ]
  },
  {
   "cell_type": "code",
   "execution_count": null,
   "id": "painted-daughter",
   "metadata": {},
   "outputs": [],
   "source": [
    "dr.get_data(\"2020-02-23T01:10:00\", \"2020-02-23T01:15:00\", \"KRW-BTC\")"
   ]
  },
  {
   "cell_type": "code",
   "execution_count": null,
   "id": "hired-immigration",
   "metadata": {},
   "outputs": [],
   "source": [
    "# 03:55:00 1분봉 없음 ㅠ.ㅠ\n",
    "# Upbit에 없는 데이터가 종종 있다는 것을 알게됨\n",
    "dr.get_data(\"2020-02-22T03:54:00\", \"2020-02-22T03:56:00\", \"KRW-BTC\")"
   ]
  },
  {
   "cell_type": "code",
   "execution_count": null,
   "id": "finished-yahoo",
   "metadata": {},
   "outputs": [],
   "source": [
    "dr.get_data(\"2020-02-20T00:00:00\", \"2020-02-20T23:00:15\", \"KRW-BTC\")"
   ]
  },
  {
   "cell_type": "code",
   "execution_count": null,
   "id": "portable-probe",
   "metadata": {},
   "outputs": [],
   "source": [
    "dr.get_data(\"2020-02-10T00:00:00\", \"2020-02-11T23:00:15\", \"KRW-BTC\")"
   ]
  },
  {
   "cell_type": "code",
   "execution_count": null,
   "id": "adopted-female",
   "metadata": {},
   "outputs": [],
   "source": []
  }
 ],
 "metadata": {
  "kernelspec": {
   "display_name": "Python 3",
   "language": "python",
   "name": "python3"
  },
  "language_info": {
   "codemirror_mode": {
    "name": "ipython",
    "version": 3
   },
   "file_extension": ".py",
   "mimetype": "text/x-python",
   "name": "python",
   "nbconvert_exporter": "python",
   "pygments_lexer": "ipython3",
   "version": "3.6.8"
  }
 },
 "nbformat": 4,
 "nbformat_minor": 5
}
