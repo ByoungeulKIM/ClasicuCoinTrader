{
 "cells": [
  {
   "cell_type": "code",
   "execution_count": null,
   "id": "closing-taxation",
   "metadata": {},
   "outputs": [],
   "source": [
    "import os\n",
    "os.chdir('../')"
   ]
  },
  {
   "cell_type": "markdown",
   "id": "narrative-technician",
   "metadata": {},
   "source": [
    "### 현재 디렉토리가 smtm 프로젝트 root로 설정되었는지 확인\n",
    "분석 결과 파일이 저장될 output 폴더 생성"
   ]
  },
  {
   "cell_type": "code",
   "execution_count": null,
   "id": "lyric-adelaide",
   "metadata": {},
   "outputs": [],
   "source": [
    "from datetime import datetime\n",
    "from smtm import Database"
   ]
  },
  {
   "cell_type": "code",
   "execution_count": null,
   "id": "temporal-change",
   "metadata": {},
   "outputs": [],
   "source": [
    "db = Database()"
   ]
  },
  {
   "cell_type": "code",
   "execution_count": null,
   "id": "ideal-northern",
   "metadata": {},
   "outputs": [],
   "source": [
    "start = \"2020-02-20T17:00:00\"\n",
    "end = \"2020-02-20T22:10:15\"\n",
    "market = \"KRW-BTC\""
   ]
  },
  {
   "cell_type": "code",
   "execution_count": null,
   "id": "responsible-navigator",
   "metadata": {},
   "outputs": [],
   "source": [
    "start = \"2020-02-20T20:00:00\"\n",
    "end = \"2020-02-20T23:00:00\"\n",
    "market = \"KRW-BTC\""
   ]
  },
  {
   "cell_type": "code",
   "execution_count": null,
   "id": "crazy-producer",
   "metadata": {},
   "outputs": [],
   "source": [
    "start = \"2020-02-20T03:54:00\"\n",
    "end = \"2020-02-20T03:59:00\"\n",
    "market = \"KRW-BTC\""
   ]
  },
  {
   "cell_type": "code",
   "execution_count": null,
   "id": "prescribed-camcorder",
   "metadata": {},
   "outputs": [],
   "source": [
    "start_dt = datetime.strptime(start, \"%Y-%m-%dT%H:%M:%S\")\n",
    "end_dt = datetime.strptime(end, \"%Y-%m-%dT%H:%M:%S\")\n",
    "\n",
    "result = db.query(start_dt, end_dt, market)"
   ]
  },
  {
   "cell_type": "code",
   "execution_count": null,
   "id": "narrow-nelson",
   "metadata": {},
   "outputs": [],
   "source": [
    "len(result)"
   ]
  },
  {
   "cell_type": "code",
   "execution_count": null,
   "id": "dominican-identifier",
   "metadata": {},
   "outputs": [],
   "source": []
  }
 ],
 "metadata": {
  "kernelspec": {
   "display_name": "Python 3",
   "language": "python",
   "name": "python3"
  },
  "language_info": {
   "codemirror_mode": {
    "name": "ipython",
    "version": 3
   },
   "file_extension": ".py",
   "mimetype": "text/x-python",
   "name": "python",
   "nbconvert_exporter": "python",
   "pygments_lexer": "ipython3",
   "version": "3.6.8"
  }
 },
 "nbformat": 4,
 "nbformat_minor": 5
}
