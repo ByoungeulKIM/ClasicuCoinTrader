{
 "cells": [
  {
   "cell_type": "markdown",
   "id": "passive-musical",
   "metadata": {},
   "source": [
    "## 업비트 API 실습"
   ]
  },
  {
   "cell_type": "code",
   "execution_count": null,
   "id": "packed-collectible",
   "metadata": {},
   "outputs": [],
   "source": [
    "import os\n",
    "import jwt  # PyJWT\n",
    "import uuid\n",
    "import hashlib\n",
    "from urllib.parse import urlencode\n",
    "import requests"
   ]
  },
  {
   "cell_type": "markdown",
   "id": "continent-darkness",
   "metadata": {},
   "source": [
    "### 환경변수 호출"
   ]
  },
  {
   "cell_type": "code",
   "execution_count": null,
   "id": "improving-independence",
   "metadata": {},
   "outputs": [],
   "source": [
    "from dotenv import load_dotenv\n",
    "\n",
    "load_dotenv()\n",
    "\n",
    "ACCESS_KEY = os.environ[\"UPBIT_OPEN_API_ACCESS_KEY\"]\n",
    "SECRET_KEY = os.environ[\"UPBIT_OPEN_API_SECRET_KEY\"]\n",
    "SERVER_URL = os.environ[\"UPBIT_OPEN_API_SERVER_URL\"]\n",
    "SERVER_URL"
   ]
  },
  {
   "cell_type": "markdown",
   "id": "exact-million",
   "metadata": {},
   "source": [
    "### 토큰 만들기"
   ]
  },
  {
   "cell_type": "code",
   "execution_count": null,
   "id": "moving-battery",
   "metadata": {},
   "outputs": [],
   "source": [
    "def create_token(self, query=None):\n",
    "    \"\"\"API에 사용될 토큰을 생성\"\"\"\n",
    "    if query is None:\n",
    "        print(\"Start create token without query\")\n",
    "        payload = {\n",
    "            \"access_key\": ACCESS_KEY,\n",
    "            \"nonce\": str(uuid.uuid4()),\n",
    "        }\n",
    "\n",
    "        jwt_token = jwt.encode(payload, SECRET_KEY)\n",
    "        authorization_token = \"Bearer {}\".format(jwt_token)\n",
    "        return authorization_token\n",
    "\n",
    "    # query는 dict 타입입니다.\n",
    "    print(\"Start create token without query\")\n",
    "    print(query)\n",
    "    m = hashlib.sha512()\n",
    "    m.update(urlencode(query).encode())\n",
    "    print(\"url encoded_query\")\n",
    "    print(urlencode(query).encode())\n",
    "    query_hash = m.hexdigest()\n",
    "\n",
    "    print(\"hash of encoded_query\")\n",
    "    print(query_hash)\n",
    "\n",
    "    payload = {\n",
    "        \"access_key\": ACCESS_KEY,\n",
    "        \"nonce\": str(uuid.uuid4()),\n",
    "        \"query_hash\": query_hash,\n",
    "        \"query_hash_alg\": \"SHA512\",\n",
    "    }\n",
    "\n",
    "    jwt_token = jwt.encode(payload, SECRET_KEY)\n",
    "    authorization_token = \"Bearer {}\".format(jwt_token)\n",
    "    return authorization_token"
   ]
  },
  {
   "cell_type": "code",
   "execution_count": null,
   "id": "sufficient-halifax",
   "metadata": {},
   "outputs": [],
   "source": []
  },
  {
   "cell_type": "code",
   "execution_count": null,
   "id": "multiple-prevention",
   "metadata": {},
   "outputs": [],
   "source": []
  },
  {
   "cell_type": "markdown",
   "id": "stupid-hardware",
   "metadata": {},
   "source": [
    "### 최근 거래 내역 조회"
   ]
  },
  {
   "cell_type": "code",
   "execution_count": null,
   "id": "impressed-prerequisite",
   "metadata": {},
   "outputs": [],
   "source": [
    "def query_latest_trade(market):\n",
    "    \"\"\"최근 거래 내역 조회\n",
    "    response:\n",
    "        trade_date_utc: 체결 일자(UTC 기준), String\n",
    "        trade_time_utc: 체결 시각(UTC 기준), String\n",
    "        timestamp: 체결 타임스탬프, Long\n",
    "        trade_price: 체결 가격, Double\n",
    "        trade_volume: 체결량, Double\n",
    "        prev_closing_price: 전일 종가, Double\n",
    "        change_price: 변화량, Double\n",
    "        ask_bid: 매도/매수, String\n",
    "        sequential_id: 체결 번호(Unique), Long\n",
    "    \"\"\"\n",
    "    querystring = {\n",
    "        \"market\": market,\n",
    "        \"count\":\"1\"\n",
    "    }\n",
    "\n",
    "    response = requests.request(\"GET\", SERVER_URL + \"/v1/trades/ticks\", params=querystring)\n",
    "\n",
    "    print(response.json())\n",
    "    return response.json()\n",
    "query_latest_trade('KRW-BTC')"
   ]
  },
  {
   "cell_type": "code",
   "execution_count": null,
   "id": "engaged-racing",
   "metadata": {},
   "outputs": [],
   "source": []
  }
 ],
 "metadata": {
  "kernelspec": {
   "display_name": "Python 3",
   "language": "python",
   "name": "python3"
  },
  "language_info": {
   "codemirror_mode": {
    "name": "ipython",
    "version": 3
   },
   "file_extension": ".py",
   "mimetype": "text/x-python",
   "name": "python",
   "nbconvert_exporter": "python",
   "pygments_lexer": "ipython3",
   "version": "3.6.8"
  }
 },
 "nbformat": 4,
 "nbformat_minor": 5
}
