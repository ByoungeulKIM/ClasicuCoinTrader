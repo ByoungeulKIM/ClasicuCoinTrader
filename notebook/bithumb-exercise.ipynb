{
 "cells": [
  {
   "cell_type": "markdown",
   "id": "defined-essex",
   "metadata": {},
   "source": [
    "## 빗썸 API 실습"
   ]
  },
  {
   "cell_type": "code",
   "execution_count": null,
   "id": "great-poison",
   "metadata": {},
   "outputs": [],
   "source": [
    "import os\n",
    "import hashlib\n",
    "import math\n",
    "import time\n",
    "import base64\n",
    "import hmac, hashlib\n",
    "from urllib.parse import urlencode\n",
    "import requests"
   ]
  },
  {
   "cell_type": "markdown",
   "id": "brazilian-watershed",
   "metadata": {},
   "source": [
    "### 환경변수 호출"
   ]
  },
  {
   "cell_type": "code",
   "execution_count": null,
   "id": "lovely-fields",
   "metadata": {},
   "outputs": [],
   "source": [
    "from dotenv import load_dotenv\n",
    "\n",
    "load_dotenv()\n",
    "\n",
    "ACCESS_KEY = os.environ[\"BITHUMB_API_ACCESS_KEY\"]\n",
    "SECRET_KEY = os.environ[\"BITHUMB_API_SECRET_KEY\"]\n",
    "SERVER_URL = os.environ[\"BITHUMB_API_SERVER_URL\"]\n",
    "SERVER_URL"
   ]
  },
  {
   "cell_type": "markdown",
   "id": "quarterly-namibia",
   "metadata": {},
   "source": [
    "### 토큰 만들기"
   ]
  },
  {
   "cell_type": "code",
   "execution_count": null,
   "id": "tutorial-camel",
   "metadata": {},
   "outputs": [],
   "source": [
    "def timestamp_millisec():\n",
    "    mt_string = \"%f %d\" % math.modf(time.time())\n",
    "    mt_array = mt_string.split(\" \")[:2]\n",
    "    return mt_array[1] + mt_array[0][2:5]\n",
    "    \n",
    "def create_token(endpoint, rgParams):\n",
    "    \"\"\"Api-Sign and Api-Nonce information generation.\n",
    "\n",
    "    # - nonce: it is an arbitrary number that may only be used once.\n",
    "    # - api_sign: API signature information created in various combinations values.\n",
    "    \"\"\"\n",
    "    endpoint_item_array = {\"endpoint\": endpoint}\n",
    "\n",
    "    uri_array = dict(endpoint_item_array, **rgParams)  # Concatenate the two arrays.\n",
    "    print(f\"uri_array {uri_array}\")\n",
    "\n",
    "    str_data = urlencode(uri_array)\n",
    "    nonce = timestamp_millisec()\n",
    "\n",
    "    data = endpoint + chr(0) + str_data + chr(0) + nonce\n",
    "    utf8_data = data.encode(\"utf-8\")\n",
    "\n",
    "    key = SECRET_KEY\n",
    "    utf8_key = key.encode(\"utf-8\")\n",
    "\n",
    "    h = hmac.new(bytes(utf8_key), utf8_data, hashlib.sha512)\n",
    "    hex_output = h.hexdigest()\n",
    "    utf8_hex_output = hex_output.encode(\"utf-8\")\n",
    "    api_sign = base64.b64encode(utf8_hex_output)\n",
    "    utf8_api_sign = api_sign.decode(\"utf-8\")\n",
    "\n",
    "    url = SERVER_URL + endpoint\n",
    "    headers = {\n",
    "        \"Api-Key\": ACCESS_KEY,\n",
    "        \"Api-Sign\": utf8_api_sign,\n",
    "        \"Api-Nonce\": nonce,\n",
    "        \"Content-Type\": \"application/x-www-form-urlencoded\",\n",
    "    }\n",
    "    \n",
    "    return (url, headers, str_data)"
   ]
  },
  {
   "cell_type": "code",
   "execution_count": null,
   "id": "fantastic-vegetation",
   "metadata": {},
   "outputs": [],
   "source": [
    "query = {\n",
    "    \"order_currency\": \"BTC\",\n",
    "    \"payment_currency\": \"KRW\",\n",
    "    \"type\": \"bid\",\n",
    "    \"units\": str(0.0001),\n",
    "    \"price\": str(30000000),\n",
    "}\n",
    "create_token(\"/trade/place\", query)"
   ]
  },
  {
   "cell_type": "markdown",
   "id": "comfortable-surveillance",
   "metadata": {},
   "source": [
    "### 주문하기"
   ]
  },
  {
   "cell_type": "code",
   "execution_count": null,
   "id": "unlikely-parallel",
   "metadata": {},
   "outputs": [],
   "source": [
    "def send_order(query):\n",
    "    print(query)\n",
    "    info = create_token(\"/trade/place\", query)\n",
    "    response = requests.post(info[0], headers=info[1], data=info[2])\n",
    "    return response.json()"
   ]
  },
  {
   "cell_type": "markdown",
   "id": "labeled-alignment",
   "metadata": {},
   "source": [
    "### 고정 가격 매수 주문하기"
   ]
  },
  {
   "cell_type": "code",
   "execution_count": null,
   "id": "peripheral-pasta",
   "metadata": {},
   "outputs": [],
   "source": [
    "query = {\n",
    "    \"order_currency\": \"BTC\",\n",
    "    \"payment_currency\": \"KRW\",\n",
    "    \"type\": \"bid\",\n",
    "    \"units\": \"0.0002\",\n",
    "    \"price\": \"38399000.0\",\n",
    "}\n",
    "    \n",
    "send_order(query)"
   ]
  },
  {
   "cell_type": "markdown",
   "id": "apart-clearing",
   "metadata": {},
   "source": [
    "### 고정 가격 매도 주문하기"
   ]
  },
  {
   "cell_type": "code",
   "execution_count": null,
   "id": "unlike-depth",
   "metadata": {},
   "outputs": [],
   "source": [
    "query = {\n",
    "    \"order_currency\": \"BTC\",\n",
    "    \"payment_currency\": \"KRW\",\n",
    "    \"type\": \"bid\",\n",
    "    \"units\": \"0.0002\",\n",
    "    \"price\": \"3820000\",\n",
    "}    \n",
    "send_order(query)"
   ]
  },
  {
   "cell_type": "markdown",
   "id": "oriented-sitting",
   "metadata": {},
   "source": [
    "### 주문 취소하기"
   ]
  },
  {
   "cell_type": "code",
   "execution_count": null,
   "id": "indoor-military",
   "metadata": {},
   "outputs": [],
   "source": [
    "def cancel_order(market, order_id):\n",
    "    \"\"\"주문 취소\n",
    "    Params:\n",
    "        type, 거래유형 (bid : 매수 ask : 매도), String/필수\n",
    "        order_id, 매수/매도 주문 등록된 주문번호, String/필수\n",
    "    \"\"\"\n",
    "    query = {\n",
    "        \"order_currency\": market,\n",
    "        \"payment_currency\": \"KRW\",\n",
    "        \"order_id\": order_id,\n",
    "    }\n",
    "    \n",
    "    info = create_token(\"/trade/cancel\", query)\n",
    "    response = requests.post(info[0], headers=info[1], data=info[2])\n",
    "    return response.json()"
   ]
  },
  {
   "cell_type": "code",
   "execution_count": null,
   "id": "olympic-handle",
   "metadata": {},
   "outputs": [],
   "source": [
    "cancel_order(\"BTC\", \"C0101000000415070670\")"
   ]
  },
  {
   "cell_type": "markdown",
   "id": "biological-principle",
   "metadata": {},
   "source": [
    "### 주문 조회"
   ]
  },
  {
   "cell_type": "code",
   "execution_count": null,
   "id": "together-interval",
   "metadata": {},
   "outputs": [],
   "source": [
    "def query_order(market, order_id=None):\n",
    "    query = {\"order_currency\": market, \"payment_currency\": \"KRW\", \"order_id\": order_id}\n",
    "    if order_id is None:\n",
    "        return\n",
    "\n",
    "    info = create_token(\"/trade/order_detail\", query)\n",
    "    response = requests.post(info[0], headers=info[1], data=info[2])\n",
    "    return response.json()"
   ]
  },
  {
   "cell_type": "code",
   "execution_count": null,
   "id": "furnished-program",
   "metadata": {},
   "outputs": [],
   "source": [
    "query_order(\"BTC\", \"C0101000000415070670\")"
   ]
  },
  {
   "cell_type": "code",
   "execution_count": null,
   "id": "british-paper",
   "metadata": {},
   "outputs": [],
   "source": []
  },
  {
   "cell_type": "code",
   "execution_count": null,
   "id": "decreased-function",
   "metadata": {},
   "outputs": [],
   "source": []
  },
  {
   "cell_type": "code",
   "execution_count": null,
   "id": "beautiful-sherman",
   "metadata": {},
   "outputs": [],
   "source": [
    "def _usecTime():\n",
    "    mt = \"%f %d\" % math.modf(time.time())\n",
    "    mt_array = mt.split(\" \")[:2]\n",
    "    return mt_array[1] + mt_array[0][2:5]\n"
   ]
  },
  {
   "cell_type": "code",
   "execution_count": null,
   "id": "enabling-swimming",
   "metadata": {},
   "outputs": [],
   "source": [
    "_usecTime()"
   ]
  },
  {
   "cell_type": "code",
   "execution_count": null,
   "id": "tracked-township",
   "metadata": {},
   "outputs": [],
   "source": [
    "time.time()"
   ]
  },
  {
   "cell_type": "code",
   "execution_count": null,
   "id": "confused-focus",
   "metadata": {},
   "outputs": [],
   "source": [
    "math.modf(time.time())"
   ]
  },
  {
   "cell_type": "code",
   "execution_count": null,
   "id": "opposite-baghdad",
   "metadata": {},
   "outputs": [],
   "source": [
    "\"%f %d\" % math.modf(time.time())"
   ]
  },
  {
   "cell_type": "code",
   "execution_count": null,
   "id": "selected-modern",
   "metadata": {},
   "outputs": [],
   "source": []
  }
 ],
 "metadata": {
  "kernelspec": {
   "display_name": "Python 3",
   "language": "python",
   "name": "python3"
  },
  "language_info": {
   "codemirror_mode": {
    "name": "ipython",
    "version": 3
   },
   "file_extension": ".py",
   "mimetype": "text/x-python",
   "name": "python",
   "nbconvert_exporter": "python",
   "pygments_lexer": "ipython3",
   "version": "3.6.8"
  }
 },
 "nbformat": 4,
 "nbformat_minor": 5
}
