{
 "cells": [
  {
   "cell_type": "code",
   "execution_count": 1,
   "metadata": {},
   "outputs": [],
   "source": [
    "import os\n",
    "os.chdir('../')"
   ]
  },
  {
   "cell_type": "markdown",
   "metadata": {},
   "source": [
    "### 현재 디렉토리가 smtm 프로젝트 root로 설정되었는지 확인"
   ]
  },
  {
   "cell_type": "code",
   "execution_count": 2,
   "metadata": {},
   "outputs": [
    {
     "name": "stdout",
     "output_type": "stream",
     "text": [
      "현재 디렉토리  D:\\01_code\\smtm\n"
     ]
    }
   ],
   "source": [
    "print(\"현재 디렉토리 \" , os.getcwd())"
   ]
  },
  {
   "cell_type": "code",
   "execution_count": 3,
   "metadata": {},
   "outputs": [],
   "source": [
    "import os\n",
    "import time\n",
    "from datetime import datetime\n",
    "from smtm import BithumbTrader\n",
    "ISO_DATEFORMAT = \"%Y-%m-%dT%H:%M:%S\""
   ]
  },
  {
   "cell_type": "markdown",
   "metadata": {},
   "source": [
    "### 초기화"
   ]
  },
  {
   "cell_type": "code",
   "execution_count": 9,
   "metadata": {},
   "outputs": [
    {
     "name": "stderr",
     "output_type": "stream",
     "text": [
      "2021-07-04 12:48:16,450 DEBUG           BTR-Worker - Worker[BTR-Worker:1080] WAIT ==========\n"
     ]
    }
   ],
   "source": [
    "btr = BithumbTrader(budget=10000)"
   ]
  },
  {
   "cell_type": "markdown",
   "metadata": {},
   "source": [
    "### 계좌 조회"
   ]
  },
  {
   "cell_type": "code",
   "execution_count": 20,
   "metadata": {},
   "outputs": [
    {
     "name": "stderr",
     "output_type": "stream",
     "text": [
      "2021-07-04 13:02:32,858 DEBUG        BithumbTrader - account info {'balance': 10000, 'asset': {'BTC': (0, 0.0)}, 'quote': {'BTC': 40510000.0}, 'date_time': '2021-07-04T13:02:32'}\n"
     ]
    },
    {
     "data": {
      "text/plain": [
       "{'balance': 10000,\n",
       " 'asset': {'BTC': (0, 0.0)},\n",
       " 'quote': {'BTC': 40510000.0},\n",
       " 'date_time': '2021-07-04T13:02:32'}"
      ]
     },
     "execution_count": 20,
     "metadata": {},
     "output_type": "execute_result"
    }
   ],
   "source": [
    "btr.get_account_info()"
   ]
  },
  {
   "cell_type": "markdown",
   "metadata": {},
   "source": [
    "### 매수 주문"
   ]
  },
  {
   "cell_type": "code",
   "execution_count": 21,
   "metadata": {},
   "outputs": [],
   "source": [
    "request = {\n",
    "    'id': 'BTR_TEST.1234', \n",
    "    'type': 'buy',\n",
    "    'price': 40282000, \n",
    "    'amount': 0.0002, \n",
    "}"
   ]
  },
  {
   "cell_type": "code",
   "execution_count": 22,
   "metadata": {},
   "outputs": [],
   "source": [
    "def callback(info):\n",
    "    print(\"callback!\")\n",
    "    print(info)"
   ]
  },
  {
   "cell_type": "code",
   "execution_count": 23,
   "metadata": {},
   "outputs": [
    {
     "name": "stderr",
     "output_type": "stream",
     "text": [
      "2021-07-04 13:02:41,329 DEBUG           BTR-Worker - Worker[BTR-Worker:1080] GO ----------\n",
      "2021-07-04 13:02:41,612  INFO        BithumbTrader - ORDER ##### BUY\n",
      "2021-07-04 13:02:41,612  INFO        BithumbTrader - BTC,price: 40282000, volume: 0.0002\n",
      "2021-07-04 13:02:41,623 DEBUG        BithumbTrader - query :{'order_currency': 'BTC', 'payment_currency': 'KRW', 'type': 'bid', 'units': '0.0002', 'price': '40282000'}\n",
      "2021-07-04 13:02:41,628 DEBUG        BithumbTrader - url: https://api.bithumb.com/trade/place, headers: {'Api-Key': '3a69de12bdc4efb9c137eaf25878e3a0', 'Api-Sign': 'NTY1Njg5YWZhZGNlNWU4OWM2MWE3M2MyOTY5NjM4MDY0MTIxYWQwNjZhNjk2NWQ3MzI3YWI3MWE5MmUwYThhOGYwMDRlYzAzY2I0ZGI1ZDU0ODFmMTgxMzJhNmU4OTkwOWZjNzk5ZjQwZmZhYmU4OTgzYTcwYTZlNjczNjdkNjM=', 'Api-Nonce': '1625371361628', 'Content-Type': 'application/x-www-form-urlencoded'}, str_data: endpoint=%2Ftrade%2Fplace&order_currency=BTC&payment_currency=KRW&type=bid&units=0.0002&price=40282000\n",
      "2021-07-04 13:02:41,961 DEBUG        BithumbTrader - request inserted {'order_id': 'C0101000000421585168', 'callback': <function callback at 0x0000023862DF5F28>, 'result': {'state': 'requested', 'request': {'id': 'BTR_TEST.1234', 'type': 'buy', 'price': 40282000, 'amount': 0.0002}, 'type': 'buy', 'price': 40282000, 'amount': 0.0002, 'msg': 'success'}}\n",
      "2021-07-04 13:02:41,961 DEBUG           BTR-Worker - Worker[BTR-Worker:1080] WAIT ==========\n"
     ]
    },
    {
     "name": "stdout",
     "output_type": "stream",
     "text": [
      "callback!\n",
      "{'state': 'requested', 'request': {'id': 'BTR_TEST.1234', 'type': 'buy', 'price': 40282000, 'amount': 0.0002}, 'type': 'buy', 'price': 40282000, 'amount': 0.0002, 'msg': 'success'}\n"
     ]
    },
    {
     "name": "stderr",
     "output_type": "stream",
     "text": [
      "2021-07-04 13:02:46,972 DEBUG           BTR-Worker - Worker[BTR-Worker:1080] GO ----------\n",
      "2021-07-04 13:02:46,974 DEBUG        BithumbTrader - waiting order count 1\n",
      "2021-07-04 13:02:46,977 DEBUG        BithumbTrader - try to find order {'order_id': 'C0101000000421585168', 'callback': <function callback at 0x0000023862DF5F28>, 'result': {'state': 'requested', 'request': {'id': 'BTR_TEST.1234', 'type': 'buy', 'price': 40282000, 'amount': 0.0002}, 'type': 'buy', 'price': 40282000, 'amount': 0.0002, 'msg': 'success'}}\n",
      "2021-07-04 13:02:46,977 DEBUG        BithumbTrader - url: https://api.bithumb.com/info/order_detail, headers: {'Api-Key': '3a69de12bdc4efb9c137eaf25878e3a0', 'Api-Sign': 'YmI1ODUwZTAyOGIxNjMxYjIxOTUzOTk1YjE2OTg5YmM3MTVkNjI1OGM1ZDUwN2EyOTFiYTQ2MjE0ODZjNWYzZDZkZjAxNmE0MjE2NGU2YmQyMGMwYTY1Yjk1MDQxMzY1MmZlYmUyZTY3NzA2YjVmMjIwOTFjNjExMTNlOThjZTU=', 'Api-Nonce': '1625371366977', 'Content-Type': 'application/x-www-form-urlencoded'}, str_data: endpoint=%2Finfo%2Forder_detail&order_currency=BTC&payment_currency=KRW&order_id=C0101000000421585168\n",
      "2021-07-04 13:02:47,276 DEBUG        BithumbTrader - response {'status': '0000', 'data': {'order_date': '1625371361753480', 'type': 'bid', 'order_status': 'Pending', 'order_currency': 'BTC', 'payment_currency': 'KRW', 'watch_price': '0', 'order_price': '40282000', 'order_qty': '0.0002', 'cancel_date': '', 'cancel_type': '', 'contract': []}}\n",
      "2021-07-04 13:02:47,276 DEBUG        BithumbTrader - After update, waiting order count 1\n",
      "2021-07-04 13:02:47,276 DEBUG           BTR-Worker - Worker[BTR-Worker:1080] WAIT ==========\n",
      "2021-07-04 13:02:52,289 DEBUG           BTR-Worker - Worker[BTR-Worker:1080] GO ----------\n",
      "2021-07-04 13:02:52,290 DEBUG        BithumbTrader - waiting order count 1\n",
      "2021-07-04 13:02:52,290 DEBUG        BithumbTrader - try to find order {'order_id': 'C0101000000421585168', 'callback': <function callback at 0x0000023862DF5F28>, 'result': {'state': 'requested', 'request': {'id': 'BTR_TEST.1234', 'type': 'buy', 'price': 40282000, 'amount': 0.0002}, 'type': 'buy', 'price': 40282000, 'amount': 0.0002, 'msg': 'success'}}\n",
      "2021-07-04 13:02:52,299 DEBUG        BithumbTrader - url: https://api.bithumb.com/info/order_detail, headers: {'Api-Key': '3a69de12bdc4efb9c137eaf25878e3a0', 'Api-Sign': 'ZGIyMDE0NjU0MjYxNmEzMzFlOWY1NmI2MjhkMTgyNTU0ZjBlMDE0OTE2OWM0ODE0YjA5NDZiZDgyYTQ4NTY5YTZhNjE2YmU3MjM5MzllZjZiZThmNGVhYWNkNDAxOWEzYThjNTNiYzhhNzhiNmU1N2NhNmVmZjlkNDAxYWY4YjU=', 'Api-Nonce': '1625371372299', 'Content-Type': 'application/x-www-form-urlencoded'}, str_data: endpoint=%2Finfo%2Forder_detail&order_currency=BTC&payment_currency=KRW&order_id=C0101000000421585168\n",
      "2021-07-04 13:02:52,645 DEBUG        BithumbTrader - response {'status': '0000', 'data': {'order_date': '1625371361753480', 'type': 'bid', 'order_status': 'Pending', 'order_currency': 'BTC', 'payment_currency': 'KRW', 'watch_price': '0', 'order_price': '40282000', 'order_qty': '0.0002', 'cancel_date': '', 'cancel_type': '', 'contract': []}}\n",
      "2021-07-04 13:02:52,645 DEBUG        BithumbTrader - After update, waiting order count 1\n",
      "2021-07-04 13:02:52,658 DEBUG           BTR-Worker - Worker[BTR-Worker:1080] WAIT ==========\n"
     ]
    }
   ],
   "source": [
    "btr.send_request([request], callback)"
   ]
  },
  {
   "cell_type": "markdown",
   "metadata": {},
   "source": [
    "### 주문 취소"
   ]
  },
  {
   "cell_type": "code",
   "execution_count": 24,
   "metadata": {},
   "outputs": [
    {
     "name": "stderr",
     "output_type": "stream",
     "text": [
      "2021-07-04 13:02:53,072 DEBUG        BithumbTrader - cancel order_id: C0101000000421585168\n",
      "2021-07-04 13:02:53,074 DEBUG        BithumbTrader - url: https://api.bithumb.com/trade/cancel, headers: {'Api-Key': '3a69de12bdc4efb9c137eaf25878e3a0', 'Api-Sign': 'N2JlMzE0YTcxZDkzYjk5NzUzZDBhZDAwOWNhNzVlYTc1MWZmOTBkYzllODQ4NGMxNWIyYmRkZjA0NmRkZGNkZDU5ZjI4ZGI4YTIwODljNjA0ZjU3OTEwNzg3MjJlZjgzYzNmOGMxOTJlYjk2Mjk0OTJjYjc4NTFkOTFlZTRkMjc=', 'Api-Nonce': '1625371373074', 'Content-Type': 'application/x-www-form-urlencoded'}, str_data: endpoint=%2Ftrade%2Fcancel&order_currency=BTC&payment_currency=KRW&order_id=C0101000000421585168\n",
      "2021-07-04 13:02:53,392 DEBUG        BithumbTrader - cancel {'status': '0000'}\n",
      "2021-07-04 13:02:53,392 DEBUG        BithumbTrader - canceled order {'status': '0000'}\n",
      "2021-07-04 13:02:53,408 DEBUG        BithumbTrader - callback called {'state': 'done', 'request': {'id': 'BTR_TEST.1234', 'type': 'buy', 'price': 40282000, 'amount': 0.0002}, 'type': 'buy', 'price': 40282000, 'amount': 0, 'msg': 'success', 'date_time': '2021-07-04T13:02:53'}\n"
     ]
    },
    {
     "name": "stdout",
     "output_type": "stream",
     "text": [
      "callback!\n",
      "{'state': 'done', 'request': {'id': 'BTR_TEST.1234', 'type': 'buy', 'price': 40282000, 'amount': 0.0002}, 'type': 'buy', 'price': 40282000, 'amount': 0, 'msg': 'success', 'date_time': '2021-07-04T13:02:53'}\n"
     ]
    },
    {
     "name": "stderr",
     "output_type": "stream",
     "text": [
      "2021-07-04 13:02:57,673 DEBUG           BTR-Worker - Worker[BTR-Worker:1080] GO ----------\n",
      "2021-07-04 13:02:57,674 DEBUG        BithumbTrader - waiting order count 0\n",
      "2021-07-04 13:02:57,674 DEBUG        BithumbTrader - After update, waiting order count 0\n",
      "2021-07-04 13:02:57,683 DEBUG           BTR-Worker - Worker[BTR-Worker:1080] WAIT ==========\n"
     ]
    }
   ],
   "source": [
    "btr.cancel_request(request[\"id\"])"
   ]
  },
  {
   "cell_type": "code",
   "execution_count": null,
   "metadata": {},
   "outputs": [],
   "source": []
  }
 ],
 "metadata": {
  "kernelspec": {
   "display_name": "Python 3",
   "language": "python",
   "name": "python3"
  },
  "language_info": {
   "codemirror_mode": {
    "name": "ipython",
    "version": 3
   },
   "file_extension": ".py",
   "mimetype": "text/x-python",
   "name": "python",
   "nbconvert_exporter": "python",
   "pygments_lexer": "ipython3",
   "version": "3.6.8"
  }
 },
 "nbformat": 4,
 "nbformat_minor": 2
}
